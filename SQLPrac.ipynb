{
 "cells": [
  {
   "cell_type": "code",
   "execution_count": 1,
   "id": "b37b37c0-13f5-402b-a88e-9a207dda8eb0",
   "metadata": {},
   "outputs": [
    {
     "data": {
      "text/html": [
       "    <style>\n",
       "        .bk-notebook-logo {\n",
       "            display: block;\n",
       "            width: 20px;\n",
       "            height: 20px;\n",
       "            background-image: url(data:image/png;base64,iVBORw0KGgoAAAANSUhEUgAAABQAAAAUCAYAAACNiR0NAAAABHNCSVQICAgIfAhkiAAAAAlwSFlzAAALEgAACxIB0t1+/AAAABx0RVh0U29mdHdhcmUAQWRvYmUgRmlyZXdvcmtzIENTNui8sowAAAOkSURBVDiNjZRtaJVlGMd/1/08zzln5zjP1LWcU9N0NkN8m2CYjpgQYQXqSs0I84OLIC0hkEKoPtiH3gmKoiJDU7QpLgoLjLIQCpEsNJ1vqUOdO7ppbuec5+V+rj4ctwzd8IIbbi6u+8f1539dt3A78eXC7QizUF7gyV1fD1Yqg4JWz84yffhm0qkFqBogB9rM8tZdtwVsPUhWhGcFJngGeWrPzHm5oaMmkfEg1usvLFyc8jLRqDOMru7AyC8saQr7GG7f5fvDeH7Ej8CM66nIF+8yngt6HWaKh7k49Soy9nXurCi1o3qUbS3zWfrYeQDTB/Qj6kX6Ybhw4B+bOYoLKCC9H3Nu/leUTZ1JdRWkkn2ldcCamzrcf47KKXdAJllSlxAOkRgyHsGC/zRday5Qld9DyoM4/q/rUoy/CXh3jzOu3bHUVZeU+DEn8FInkPBFlu3+nW3Nw0mk6vCDiWg8CeJaxEwuHS3+z5RgY+YBR6V1Z1nxSOfoaPa4LASWxxdNp+VWTk7+4vzaou8v8PN+xo+KY2xsw6une2frhw05CTYOmQvsEhjhWjn0bmXPjpE1+kplmmkP3suftwTubK9Vq22qKmrBhpY4jvd5afdRA3wGjFAgcnTK2s4hY0/GPNIb0nErGMCRxWOOX64Z8RAC4oCXdklmEvcL8o0BfkNK4lUg9HTl+oPlQxdNo3Mg4Nv175e/1LDGzZen30MEjRUtmXSfiTVu1kK8W4txyV6BMKlbgk3lMwYCiusNy9fVfvvwMxv8Ynl6vxoByANLTWplvuj/nF9m2+PDtt1eiHPBr1oIfhCChQMBw6Aw0UulqTKZdfVvfG7VcfIqLG9bcldL/+pdWTLxLUy8Qq38heUIjh4XlzZxzQm19lLFlr8vdQ97rjZVOLf8nclzckbcD4wxXMidpX30sFd37Fv/GtwwhzhxGVAprjbg0gCAEeIgwCZyTV2Z1REEW8O4py0wsjeloKoMr6iCY6dP92H6Vw/oTyICIthibxjm/DfN9lVz8IqtqKYLUXfoKVMVQVVJOElGjrnnUt9T9wbgp8AyYKaGlqingHZU/uG2NTZSVqwHQTWkx9hxjkpWDaCg6Ckj5qebgBVbT3V3NNXMSiWSDdGV3hrtzla7J+duwPOToIg42ChPQOQjspnSlp1V+Gjdged7+8UN5CRAV7a5EdFNwCjEaBR27b3W890TE7g24NAP/mMDXRWrGoFPQI9ls/MWO2dWFAar/xcOIImbbpA3zgAAAABJRU5ErkJggg==);\n",
       "        }\n",
       "    </style>\n",
       "    <div>\n",
       "        <a href=\"https://bokeh.org\" target=\"_blank\" class=\"bk-notebook-logo\"></a>\n",
       "        <span id=\"f050651e-d0b3-4d9e-a87a-221c2432142a\">Loading BokehJS ...</span>\n",
       "    </div>\n"
      ]
     },
     "metadata": {},
     "output_type": "display_data"
    },
    {
     "data": {
      "application/javascript": [
       "'use strict';\n",
       "(function(root) {\n",
       "  function now() {\n",
       "    return new Date();\n",
       "  }\n",
       "\n",
       "  const force = true;\n",
       "\n",
       "  if (typeof root._bokeh_onload_callbacks === \"undefined\" || force === true) {\n",
       "    root._bokeh_onload_callbacks = [];\n",
       "    root._bokeh_is_loading = undefined;\n",
       "  }\n",
       "\n",
       "const JS_MIME_TYPE = 'application/javascript';\n",
       "  const HTML_MIME_TYPE = 'text/html';\n",
       "  const EXEC_MIME_TYPE = 'application/vnd.bokehjs_exec.v0+json';\n",
       "  const CLASS_NAME = 'output_bokeh rendered_html';\n",
       "\n",
       "  /**\n",
       "   * Render data to the DOM node\n",
       "   */\n",
       "  function render(props, node) {\n",
       "    const script = document.createElement(\"script\");\n",
       "    node.appendChild(script);\n",
       "  }\n",
       "\n",
       "  /**\n",
       "   * Handle when an output is cleared or removed\n",
       "   */\n",
       "  function handleClearOutput(event, handle) {\n",
       "    function drop(id) {\n",
       "      const view = Bokeh.index.get_by_id(id)\n",
       "      if (view != null) {\n",
       "        view.model.document.clear()\n",
       "        Bokeh.index.delete(view)\n",
       "      }\n",
       "    }\n",
       "\n",
       "    const cell = handle.cell;\n",
       "\n",
       "    const id = cell.output_area._bokeh_element_id;\n",
       "    const server_id = cell.output_area._bokeh_server_id;\n",
       "\n",
       "    // Clean up Bokeh references\n",
       "    if (id != null) {\n",
       "      drop(id)\n",
       "    }\n",
       "\n",
       "    if (server_id !== undefined) {\n",
       "      // Clean up Bokeh references\n",
       "      const cmd_clean = \"from bokeh.io.state import curstate; print(curstate().uuid_to_server['\" + server_id + \"'].get_sessions()[0].document.roots[0]._id)\";\n",
       "      cell.notebook.kernel.execute(cmd_clean, {\n",
       "        iopub: {\n",
       "          output: function(msg) {\n",
       "            const id = msg.content.text.trim()\n",
       "            drop(id)\n",
       "          }\n",
       "        }\n",
       "      });\n",
       "      // Destroy server and session\n",
       "      const cmd_destroy = \"import bokeh.io.notebook as ion; ion.destroy_server('\" + server_id + \"')\";\n",
       "      cell.notebook.kernel.execute(cmd_destroy);\n",
       "    }\n",
       "  }\n",
       "\n",
       "  /**\n",
       "   * Handle when a new output is added\n",
       "   */\n",
       "  function handleAddOutput(event, handle) {\n",
       "    const output_area = handle.output_area;\n",
       "    const output = handle.output;\n",
       "\n",
       "    // limit handleAddOutput to display_data with EXEC_MIME_TYPE content only\n",
       "    if ((output.output_type != \"display_data\") || (!Object.prototype.hasOwnProperty.call(output.data, EXEC_MIME_TYPE))) {\n",
       "      return\n",
       "    }\n",
       "\n",
       "    const toinsert = output_area.element.find(\".\" + CLASS_NAME.split(' ')[0]);\n",
       "\n",
       "    if (output.metadata[EXEC_MIME_TYPE][\"id\"] !== undefined) {\n",
       "      toinsert[toinsert.length - 1].firstChild.textContent = output.data[JS_MIME_TYPE];\n",
       "      // store reference to embed id on output_area\n",
       "      output_area._bokeh_element_id = output.metadata[EXEC_MIME_TYPE][\"id\"];\n",
       "    }\n",
       "    if (output.metadata[EXEC_MIME_TYPE][\"server_id\"] !== undefined) {\n",
       "      const bk_div = document.createElement(\"div\");\n",
       "      bk_div.innerHTML = output.data[HTML_MIME_TYPE];\n",
       "      const script_attrs = bk_div.children[0].attributes;\n",
       "      for (let i = 0; i < script_attrs.length; i++) {\n",
       "        toinsert[toinsert.length - 1].firstChild.setAttribute(script_attrs[i].name, script_attrs[i].value);\n",
       "        toinsert[toinsert.length - 1].firstChild.textContent = bk_div.children[0].textContent\n",
       "      }\n",
       "      // store reference to server id on output_area\n",
       "      output_area._bokeh_server_id = output.metadata[EXEC_MIME_TYPE][\"server_id\"];\n",
       "    }\n",
       "  }\n",
       "\n",
       "  function register_renderer(events, OutputArea) {\n",
       "\n",
       "    function append_mime(data, metadata, element) {\n",
       "      // create a DOM node to render to\n",
       "      const toinsert = this.create_output_subarea(\n",
       "        metadata,\n",
       "        CLASS_NAME,\n",
       "        EXEC_MIME_TYPE\n",
       "      );\n",
       "      this.keyboard_manager.register_events(toinsert);\n",
       "      // Render to node\n",
       "      const props = {data: data, metadata: metadata[EXEC_MIME_TYPE]};\n",
       "      render(props, toinsert[toinsert.length - 1]);\n",
       "      element.append(toinsert);\n",
       "      return toinsert\n",
       "    }\n",
       "\n",
       "    /* Handle when an output is cleared or removed */\n",
       "    events.on('clear_output.CodeCell', handleClearOutput);\n",
       "    events.on('delete.Cell', handleClearOutput);\n",
       "\n",
       "    /* Handle when a new output is added */\n",
       "    events.on('output_added.OutputArea', handleAddOutput);\n",
       "\n",
       "    /**\n",
       "     * Register the mime type and append_mime function with output_area\n",
       "     */\n",
       "    OutputArea.prototype.register_mime_type(EXEC_MIME_TYPE, append_mime, {\n",
       "      /* Is output safe? */\n",
       "      safe: true,\n",
       "      /* Index of renderer in `output_area.display_order` */\n",
       "      index: 0\n",
       "    });\n",
       "  }\n",
       "\n",
       "  // register the mime type if in Jupyter Notebook environment and previously unregistered\n",
       "  if (root.Jupyter !== undefined) {\n",
       "    const events = require('base/js/events');\n",
       "    const OutputArea = require('notebook/js/outputarea').OutputArea;\n",
       "\n",
       "    if (OutputArea.prototype.mime_types().indexOf(EXEC_MIME_TYPE) == -1) {\n",
       "      register_renderer(events, OutputArea);\n",
       "    }\n",
       "  }\n",
       "  if (typeof (root._bokeh_timeout) === \"undefined\" || force === true) {\n",
       "    root._bokeh_timeout = Date.now() + 5000;\n",
       "    root._bokeh_failed_load = false;\n",
       "  }\n",
       "\n",
       "  const NB_LOAD_WARNING = {'data': {'text/html':\n",
       "     \"<div style='background-color: #fdd'>\\n\"+\n",
       "     \"<p>\\n\"+\n",
       "     \"BokehJS does not appear to have successfully loaded. If loading BokehJS from CDN, this \\n\"+\n",
       "     \"may be due to a slow or bad network connection. Possible fixes:\\n\"+\n",
       "     \"</p>\\n\"+\n",
       "     \"<ul>\\n\"+\n",
       "     \"<li>re-rerun `output_notebook()` to attempt to load from CDN again, or</li>\\n\"+\n",
       "     \"<li>use INLINE resources instead, as so:</li>\\n\"+\n",
       "     \"</ul>\\n\"+\n",
       "     \"<code>\\n\"+\n",
       "     \"from bokeh.resources import INLINE\\n\"+\n",
       "     \"output_notebook(resources=INLINE)\\n\"+\n",
       "     \"</code>\\n\"+\n",
       "     \"</div>\"}};\n",
       "\n",
       "  function display_loaded(error = null) {\n",
       "    const el = document.getElementById(\"f050651e-d0b3-4d9e-a87a-221c2432142a\");\n",
       "    if (el != null) {\n",
       "      const html = (() => {\n",
       "        if (typeof root.Bokeh === \"undefined\") {\n",
       "          if (error == null) {\n",
       "            return \"BokehJS is loading ...\";\n",
       "          } else {\n",
       "            return \"BokehJS failed to load.\";\n",
       "          }\n",
       "        } else {\n",
       "          const prefix = `BokehJS ${root.Bokeh.version}`;\n",
       "          if (error == null) {\n",
       "            return `${prefix} successfully loaded.`;\n",
       "          } else {\n",
       "            return `${prefix} <b>encountered errors</b> while loading and may not function as expected.`;\n",
       "          }\n",
       "        }\n",
       "      })();\n",
       "      el.innerHTML = html;\n",
       "\n",
       "      if (error != null) {\n",
       "        const wrapper = document.createElement(\"div\");\n",
       "        wrapper.style.overflow = \"auto\";\n",
       "        wrapper.style.height = \"5em\";\n",
       "        wrapper.style.resize = \"vertical\";\n",
       "        const content = document.createElement(\"div\");\n",
       "        content.style.fontFamily = \"monospace\";\n",
       "        content.style.whiteSpace = \"pre-wrap\";\n",
       "        content.style.backgroundColor = \"rgb(255, 221, 221)\";\n",
       "        content.textContent = error.stack ?? error.toString();\n",
       "        wrapper.append(content);\n",
       "        el.append(wrapper);\n",
       "      }\n",
       "    } else if (Date.now() < root._bokeh_timeout) {\n",
       "      setTimeout(() => display_loaded(error), 100);\n",
       "    }\n",
       "  }\n",
       "\n",
       "  function run_callbacks() {\n",
       "    try {\n",
       "      root._bokeh_onload_callbacks.forEach(function(callback) {\n",
       "        if (callback != null)\n",
       "          callback();\n",
       "      });\n",
       "    } finally {\n",
       "      delete root._bokeh_onload_callbacks\n",
       "    }\n",
       "    console.debug(\"Bokeh: all callbacks have finished\");\n",
       "  }\n",
       "\n",
       "  function load_libs(css_urls, js_urls, callback) {\n",
       "    if (css_urls == null) css_urls = [];\n",
       "    if (js_urls == null) js_urls = [];\n",
       "\n",
       "    root._bokeh_onload_callbacks.push(callback);\n",
       "    if (root._bokeh_is_loading > 0) {\n",
       "      console.debug(\"Bokeh: BokehJS is being loaded, scheduling callback at\", now());\n",
       "      return null;\n",
       "    }\n",
       "    if (js_urls == null || js_urls.length === 0) {\n",
       "      run_callbacks();\n",
       "      return null;\n",
       "    }\n",
       "    console.debug(\"Bokeh: BokehJS not loaded, scheduling load and callback at\", now());\n",
       "    root._bokeh_is_loading = css_urls.length + js_urls.length;\n",
       "\n",
       "    function on_load() {\n",
       "      root._bokeh_is_loading--;\n",
       "      if (root._bokeh_is_loading === 0) {\n",
       "        console.debug(\"Bokeh: all BokehJS libraries/stylesheets loaded\");\n",
       "        run_callbacks()\n",
       "      }\n",
       "    }\n",
       "\n",
       "    function on_error(url) {\n",
       "      console.error(\"failed to load \" + url);\n",
       "    }\n",
       "\n",
       "    for (let i = 0; i < css_urls.length; i++) {\n",
       "      const url = css_urls[i];\n",
       "      const element = document.createElement(\"link\");\n",
       "      element.onload = on_load;\n",
       "      element.onerror = on_error.bind(null, url);\n",
       "      element.rel = \"stylesheet\";\n",
       "      element.type = \"text/css\";\n",
       "      element.href = url;\n",
       "      console.debug(\"Bokeh: injecting link tag for BokehJS stylesheet: \", url);\n",
       "      document.body.appendChild(element);\n",
       "    }\n",
       "\n",
       "    for (let i = 0; i < js_urls.length; i++) {\n",
       "      const url = js_urls[i];\n",
       "      const element = document.createElement('script');\n",
       "      element.onload = on_load;\n",
       "      element.onerror = on_error.bind(null, url);\n",
       "      element.async = false;\n",
       "      element.src = url;\n",
       "      console.debug(\"Bokeh: injecting script tag for BokehJS library: \", url);\n",
       "      document.head.appendChild(element);\n",
       "    }\n",
       "  };\n",
       "\n",
       "  function inject_raw_css(css) {\n",
       "    const element = document.createElement(\"style\");\n",
       "    element.appendChild(document.createTextNode(css));\n",
       "    document.body.appendChild(element);\n",
       "  }\n",
       "\n",
       "  const js_urls = [\"https://cdn.bokeh.org/bokeh/release/bokeh-3.6.0.min.js\", \"https://cdn.bokeh.org/bokeh/release/bokeh-gl-3.6.0.min.js\", \"https://cdn.bokeh.org/bokeh/release/bokeh-widgets-3.6.0.min.js\", \"https://cdn.bokeh.org/bokeh/release/bokeh-tables-3.6.0.min.js\", \"https://cdn.bokeh.org/bokeh/release/bokeh-mathjax-3.6.0.min.js\"];\n",
       "  const css_urls = [];\n",
       "\n",
       "  const inline_js = [    function(Bokeh) {\n",
       "      Bokeh.set_log_level(\"info\");\n",
       "    },\n",
       "function(Bokeh) {\n",
       "    }\n",
       "  ];\n",
       "\n",
       "  function run_inline_js() {\n",
       "    if (root.Bokeh !== undefined || force === true) {\n",
       "      try {\n",
       "            for (let i = 0; i < inline_js.length; i++) {\n",
       "      inline_js[i].call(root, root.Bokeh);\n",
       "    }\n",
       "\n",
       "      } catch (error) {display_loaded(error);throw error;\n",
       "      }if (force === true) {\n",
       "        display_loaded();\n",
       "      }} else if (Date.now() < root._bokeh_timeout) {\n",
       "      setTimeout(run_inline_js, 100);\n",
       "    } else if (!root._bokeh_failed_load) {\n",
       "      console.log(\"Bokeh: BokehJS failed to load within specified timeout.\");\n",
       "      root._bokeh_failed_load = true;\n",
       "    } else if (force !== true) {\n",
       "      const cell = $(document.getElementById(\"f050651e-d0b3-4d9e-a87a-221c2432142a\")).parents('.cell').data().cell;\n",
       "      cell.output_area.append_execute_result(NB_LOAD_WARNING)\n",
       "    }\n",
       "  }\n",
       "\n",
       "  if (root._bokeh_is_loading === 0) {\n",
       "    console.debug(\"Bokeh: BokehJS loaded, going straight to plotting\");\n",
       "    run_inline_js();\n",
       "  } else {\n",
       "    load_libs(css_urls, js_urls, function() {\n",
       "      console.debug(\"Bokeh: BokehJS plotting callback run at\", now());\n",
       "      run_inline_js();\n",
       "    });\n",
       "  }\n",
       "}(window));"
      ],
      "application/vnd.bokehjs_load.v0+json": "'use strict';\n(function(root) {\n  function now() {\n    return new Date();\n  }\n\n  const force = true;\n\n  if (typeof root._bokeh_onload_callbacks === \"undefined\" || force === true) {\n    root._bokeh_onload_callbacks = [];\n    root._bokeh_is_loading = undefined;\n  }\n\n\n  if (typeof (root._bokeh_timeout) === \"undefined\" || force === true) {\n    root._bokeh_timeout = Date.now() + 5000;\n    root._bokeh_failed_load = false;\n  }\n\n  const NB_LOAD_WARNING = {'data': {'text/html':\n     \"<div style='background-color: #fdd'>\\n\"+\n     \"<p>\\n\"+\n     \"BokehJS does not appear to have successfully loaded. If loading BokehJS from CDN, this \\n\"+\n     \"may be due to a slow or bad network connection. Possible fixes:\\n\"+\n     \"</p>\\n\"+\n     \"<ul>\\n\"+\n     \"<li>re-rerun `output_notebook()` to attempt to load from CDN again, or</li>\\n\"+\n     \"<li>use INLINE resources instead, as so:</li>\\n\"+\n     \"</ul>\\n\"+\n     \"<code>\\n\"+\n     \"from bokeh.resources import INLINE\\n\"+\n     \"output_notebook(resources=INLINE)\\n\"+\n     \"</code>\\n\"+\n     \"</div>\"}};\n\n  function display_loaded(error = null) {\n    const el = document.getElementById(\"f050651e-d0b3-4d9e-a87a-221c2432142a\");\n    if (el != null) {\n      const html = (() => {\n        if (typeof root.Bokeh === \"undefined\") {\n          if (error == null) {\n            return \"BokehJS is loading ...\";\n          } else {\n            return \"BokehJS failed to load.\";\n          }\n        } else {\n          const prefix = `BokehJS ${root.Bokeh.version}`;\n          if (error == null) {\n            return `${prefix} successfully loaded.`;\n          } else {\n            return `${prefix} <b>encountered errors</b> while loading and may not function as expected.`;\n          }\n        }\n      })();\n      el.innerHTML = html;\n\n      if (error != null) {\n        const wrapper = document.createElement(\"div\");\n        wrapper.style.overflow = \"auto\";\n        wrapper.style.height = \"5em\";\n        wrapper.style.resize = \"vertical\";\n        const content = document.createElement(\"div\");\n        content.style.fontFamily = \"monospace\";\n        content.style.whiteSpace = \"pre-wrap\";\n        content.style.backgroundColor = \"rgb(255, 221, 221)\";\n        content.textContent = error.stack ?? error.toString();\n        wrapper.append(content);\n        el.append(wrapper);\n      }\n    } else if (Date.now() < root._bokeh_timeout) {\n      setTimeout(() => display_loaded(error), 100);\n    }\n  }\n\n  function run_callbacks() {\n    try {\n      root._bokeh_onload_callbacks.forEach(function(callback) {\n        if (callback != null)\n          callback();\n      });\n    } finally {\n      delete root._bokeh_onload_callbacks\n    }\n    console.debug(\"Bokeh: all callbacks have finished\");\n  }\n\n  function load_libs(css_urls, js_urls, callback) {\n    if (css_urls == null) css_urls = [];\n    if (js_urls == null) js_urls = [];\n\n    root._bokeh_onload_callbacks.push(callback);\n    if (root._bokeh_is_loading > 0) {\n      console.debug(\"Bokeh: BokehJS is being loaded, scheduling callback at\", now());\n      return null;\n    }\n    if (js_urls == null || js_urls.length === 0) {\n      run_callbacks();\n      return null;\n    }\n    console.debug(\"Bokeh: BokehJS not loaded, scheduling load and callback at\", now());\n    root._bokeh_is_loading = css_urls.length + js_urls.length;\n\n    function on_load() {\n      root._bokeh_is_loading--;\n      if (root._bokeh_is_loading === 0) {\n        console.debug(\"Bokeh: all BokehJS libraries/stylesheets loaded\");\n        run_callbacks()\n      }\n    }\n\n    function on_error(url) {\n      console.error(\"failed to load \" + url);\n    }\n\n    for (let i = 0; i < css_urls.length; i++) {\n      const url = css_urls[i];\n      const element = document.createElement(\"link\");\n      element.onload = on_load;\n      element.onerror = on_error.bind(null, url);\n      element.rel = \"stylesheet\";\n      element.type = \"text/css\";\n      element.href = url;\n      console.debug(\"Bokeh: injecting link tag for BokehJS stylesheet: \", url);\n      document.body.appendChild(element);\n    }\n\n    for (let i = 0; i < js_urls.length; i++) {\n      const url = js_urls[i];\n      const element = document.createElement('script');\n      element.onload = on_load;\n      element.onerror = on_error.bind(null, url);\n      element.async = false;\n      element.src = url;\n      console.debug(\"Bokeh: injecting script tag for BokehJS library: \", url);\n      document.head.appendChild(element);\n    }\n  };\n\n  function inject_raw_css(css) {\n    const element = document.createElement(\"style\");\n    element.appendChild(document.createTextNode(css));\n    document.body.appendChild(element);\n  }\n\n  const js_urls = [\"https://cdn.bokeh.org/bokeh/release/bokeh-3.6.0.min.js\", \"https://cdn.bokeh.org/bokeh/release/bokeh-gl-3.6.0.min.js\", \"https://cdn.bokeh.org/bokeh/release/bokeh-widgets-3.6.0.min.js\", \"https://cdn.bokeh.org/bokeh/release/bokeh-tables-3.6.0.min.js\", \"https://cdn.bokeh.org/bokeh/release/bokeh-mathjax-3.6.0.min.js\"];\n  const css_urls = [];\n\n  const inline_js = [    function(Bokeh) {\n      Bokeh.set_log_level(\"info\");\n    },\nfunction(Bokeh) {\n    }\n  ];\n\n  function run_inline_js() {\n    if (root.Bokeh !== undefined || force === true) {\n      try {\n            for (let i = 0; i < inline_js.length; i++) {\n      inline_js[i].call(root, root.Bokeh);\n    }\n\n      } catch (error) {display_loaded(error);throw error;\n      }if (force === true) {\n        display_loaded();\n      }} else if (Date.now() < root._bokeh_timeout) {\n      setTimeout(run_inline_js, 100);\n    } else if (!root._bokeh_failed_load) {\n      console.log(\"Bokeh: BokehJS failed to load within specified timeout.\");\n      root._bokeh_failed_load = true;\n    } else if (force !== true) {\n      const cell = $(document.getElementById(\"f050651e-d0b3-4d9e-a87a-221c2432142a\")).parents('.cell').data().cell;\n      cell.output_area.append_execute_result(NB_LOAD_WARNING)\n    }\n  }\n\n  if (root._bokeh_is_loading === 0) {\n    console.debug(\"Bokeh: BokehJS loaded, going straight to plotting\");\n    run_inline_js();\n  } else {\n    load_libs(css_urls, js_urls, function() {\n      console.debug(\"Bokeh: BokehJS plotting callback run at\", now());\n      run_inline_js();\n    });\n  }\n}(window));"
     },
     "metadata": {},
     "output_type": "display_data"
    }
   ],
   "source": [
    "import pandas as pd\n",
    "from Process import get_sql_connection, save_excel_auto_width"
   ]
  },
  {
   "cell_type": "code",
   "execution_count": 2,
   "id": "7bfcbe45-2eff-41d1-ab20-1bc657fb8f9c",
   "metadata": {},
   "outputs": [
    {
     "data": {
      "text/html": [
       "<span style=\"None\">Connecting to &#x27;sqlite:///C:\\\\Users\\\\david\\\\SQL\\\\habvsper.db&#x27;</span>"
      ],
      "text/plain": [
       "Connecting to 'sqlite:///C:\\\\Users\\\\david\\\\SQL\\\\habvsper.db'"
      ]
     },
     "metadata": {},
     "output_type": "display_data"
    },
    {
     "name": "stdout",
     "output_type": "stream",
     "text": [
      "CSV data loaded into table 'students'.\n"
     ]
    }
   ],
   "source": [
    "engine=get_sql_connection(r\"C:\\Users\\david\\SQL\\habvsper.db\", csv_path=r\"C:\\Users\\david\\Downloads\\student_habits_performance.csv\",table_name=\"students\")\n",
    "engine.dispose()"
   ]
  },
  {
   "cell_type": "code",
   "execution_count": 3,
   "id": "85b69b68-e28e-4981-b450-00d44a4892a3",
   "metadata": {},
   "outputs": [
    {
     "data": {
      "text/plain": [
       "'\\ndef get_sql_connection(db_path, csv_path=None, table_name=None):\\n    \"\"\"\\n    Create and return a persistent SQLAlchemy connection, register it with ipython-sql magic,\\n    and optionally load a CSV into the database if csv_path and table_name are provided.\\n    \"\"\"\\n    # Create a connection to the SQL database\\n    engine = create_engine(f\\'sqlite:///{db_path}\\')\\n    conn = engine.connect()\\n\\n    # Close connection on exit\\n    atexit.register(lambda: conn.close())\\n\\n    # Register the connection for ipython-sql magic\\n    ipython = get_ipython()\\n    ipython.run_line_magic(\"load_ext\", \"sql\")\\n    ipython.run_line_magic(\"sql\", f\"sqlite:///{db_path}\")\\n\\n    # If a CSV path and table name are provided, load the CSV into the SQL database\\n    if csv_path and table_name:\\n        # Read the CSV file into a Pandas DataFrame\\n        df = pd.read_csv(csv_path)\\n        \\n        # Insert the DataFrame into the SQL database (create or replace the table)\\n        df.to_sql(table_name, con=engine, if_exists=\\'replace\\', index=False)\\n\\n        print(f\"CSV data loaded into table \\'{table_name}\\'.\")\\n\\n    return conn\\n'"
      ]
     },
     "execution_count": 3,
     "metadata": {},
     "output_type": "execute_result"
    }
   ],
   "source": [
    "#my definition of get_sql_connection\n",
    "'''\n",
    "def get_sql_connection(db_path, csv_path=None, table_name=None):\n",
    "    \"\"\"\n",
    "    Create and return a persistent SQLAlchemy connection, register it with ipython-sql magic,\n",
    "    and optionally load a CSV into the database if csv_path and table_name are provided.\n",
    "    \"\"\"\n",
    "    # Create a connection to the SQL database\n",
    "    engine = create_engine(f'sqlite:///{db_path}')\n",
    "    conn = engine.connect()\n",
    "\n",
    "    # Close connection on exit\n",
    "    atexit.register(lambda: conn.close())\n",
    "\n",
    "    # Register the connection for ipython-sql magic\n",
    "    ipython = get_ipython()\n",
    "    ipython.run_line_magic(\"load_ext\", \"sql\")\n",
    "    ipython.run_line_magic(\"sql\", f\"sqlite:///{db_path}\")\n",
    "\n",
    "    # If a CSV path and table name are provided, load the CSV into the SQL database\n",
    "    if csv_path and table_name:\n",
    "        # Read the CSV file into a Pandas DataFrame\n",
    "        df = pd.read_csv(csv_path)\n",
    "        \n",
    "        # Insert the DataFrame into the SQL database (create or replace the table)\n",
    "        df.to_sql(table_name, con=engine, if_exists='replace', index=False)\n",
    "\n",
    "        print(f\"CSV data loaded into table '{table_name}'.\")\n",
    "\n",
    "    return conn\n",
    "'''"
   ]
  },
  {
   "cell_type": "code",
   "execution_count": 4,
   "id": "98b03970-d051-4bd6-abfd-25e5990385a6",
   "metadata": {},
   "outputs": [
    {
     "data": {
      "text/html": [
       "<span style=\"None\">Running query in &#x27;sqlite:///C:\\\\Users\\\\david\\\\SQL\\\\habvsper.db&#x27;</span>"
      ],
      "text/plain": [
       "Running query in 'sqlite:///C:\\\\Users\\\\david\\\\SQL\\\\habvsper.db'"
      ]
     },
     "metadata": {},
     "output_type": "display_data"
    },
    {
     "data": {
      "text/html": [
       "<table>\n",
       "    <thead>\n",
       "        <tr>\n",
       "        </tr>\n",
       "    </thead>\n",
       "    <tbody>\n",
       "    </tbody>\n",
       "</table>"
      ],
      "text/plain": [
       "++\n",
       "||\n",
       "++\n",
       "++"
      ]
     },
     "execution_count": 4,
     "metadata": {},
     "output_type": "execute_result"
    }
   ],
   "source": [
    "%%sql\n",
    "DROP TABLE IF EXISTS students_new;\n",
    "\n",
    "CREATE TABLE students_new (\n",
    "    student_num INTEGER PRIMARY KEY AUTOINCREMENT,\n",
    "    student_id TEXT, \n",
    "    age INTEGER, \n",
    "    gender TEXT, \n",
    "    study_hours_per_day REAL, \n",
    "    social_media_hours REAL, \n",
    "    netflix_hours REAL, \n",
    "    part_time_job INTEGER, \n",
    "    attendance_percentage REAL, \n",
    "    sleep_hours REAL, \n",
    "    diet_quality INTEGER, \n",
    "    exercise_frequency INTEGER, \n",
    "    parental_education_level INTEGER, \n",
    "    internet_quality INTEGER, \n",
    "    mental_health_rating INTEGER, \n",
    "    extracurricular_participation INTEGER, \n",
    "    exam_score REAL\n",
    ");\n"
   ]
  },
  {
   "cell_type": "code",
   "execution_count": 5,
   "id": "be8d8ae9-6454-4e5a-8cbe-15fc5ed4bf58",
   "metadata": {},
   "outputs": [
    {
     "data": {
      "text/html": [
       "<span style=\"None\">Running query in &#x27;sqlite:///C:\\\\Users\\\\david\\\\SQL\\\\habvsper.db&#x27;</span>"
      ],
      "text/plain": [
       "Running query in 'sqlite:///C:\\\\Users\\\\david\\\\SQL\\\\habvsper.db'"
      ]
     },
     "metadata": {},
     "output_type": "display_data"
    },
    {
     "data": {
      "text/html": [
       "<span style=\"color: green\">1000 rows affected.</span>"
      ],
      "text/plain": [
       "1000 rows affected."
      ]
     },
     "metadata": {},
     "output_type": "display_data"
    },
    {
     "data": {
      "text/html": [
       "<table>\n",
       "    <thead>\n",
       "        <tr>\n",
       "        </tr>\n",
       "    </thead>\n",
       "    <tbody>\n",
       "    </tbody>\n",
       "</table>"
      ],
      "text/plain": [
       "++\n",
       "||\n",
       "++\n",
       "++"
      ]
     },
     "execution_count": 5,
     "metadata": {},
     "output_type": "execute_result"
    }
   ],
   "source": [
    "%%sql\n",
    "INSERT INTO students_new \n",
    "SELECT NULL, * FROM students;\n",
    "--Copy all records from 'students' into 'students_new', letting SQLite auto-assign a new primary key"
   ]
  },
  {
   "cell_type": "code",
   "execution_count": 6,
   "id": "1ff606f5-81a3-4689-ae7d-e10431e2d0c3",
   "metadata": {},
   "outputs": [
    {
     "data": {
      "text/html": [
       "<span style=\"None\">Running query in &#x27;sqlite:///C:\\\\Users\\\\david\\\\SQL\\\\habvsper.db&#x27;</span>"
      ],
      "text/plain": [
       "Running query in 'sqlite:///C:\\\\Users\\\\david\\\\SQL\\\\habvsper.db'"
      ]
     },
     "metadata": {},
     "output_type": "display_data"
    },
    {
     "data": {
      "text/html": [
       "<table>\n",
       "    <thead>\n",
       "        <tr>\n",
       "        </tr>\n",
       "    </thead>\n",
       "    <tbody>\n",
       "    </tbody>\n",
       "</table>"
      ],
      "text/plain": [
       "++\n",
       "||\n",
       "++\n",
       "++"
      ]
     },
     "execution_count": 6,
     "metadata": {},
     "output_type": "execute_result"
    }
   ],
   "source": [
    "%%sql\n",
    "DROP TABLE IF EXISTS top_students;\n",
    "CREATE TABLE top_students AS\n",
    "SELECT * FROM students_new WHERE exam_score>=90 ORDER BY exam_score DESC\n",
    "--makes a table for those who made an A"
   ]
  },
  {
   "cell_type": "code",
   "execution_count": 7,
   "id": "025b0724-50e7-4c68-ad5d-5ead1873f800",
   "metadata": {},
   "outputs": [
    {
     "data": {
      "text/html": [
       "<span style=\"None\">Running query in &#x27;sqlite:///C:\\\\Users\\\\david\\\\SQL\\\\habvsper.db&#x27;</span>"
      ],
      "text/plain": [
       "Running query in 'sqlite:///C:\\\\Users\\\\david\\\\SQL\\\\habvsper.db'"
      ]
     },
     "metadata": {},
     "output_type": "display_data"
    },
    {
     "data": {
      "text/html": [
       "<table>\n",
       "    <thead>\n",
       "        <tr>\n",
       "            <th>student_id</th>\n",
       "            <th>age</th>\n",
       "            <th>gender</th>\n",
       "            <th>study_hours_per_day</th>\n",
       "            <th>social_media_hours</th>\n",
       "            <th>netflix_hours</th>\n",
       "            <th>part_time_job</th>\n",
       "            <th>attendance_percentage</th>\n",
       "            <th>sleep_hours</th>\n",
       "            <th>diet_quality</th>\n",
       "            <th>exercise_frequency</th>\n",
       "            <th>parental_education_level</th>\n",
       "            <th>internet_quality</th>\n",
       "            <th>mental_health_rating</th>\n",
       "            <th>extracurricular_participation</th>\n",
       "            <th>exam_score</th>\n",
       "        </tr>\n",
       "    </thead>\n",
       "    <tbody>\n",
       "        <tr>\n",
       "            <td>S1000</td>\n",
       "            <td>23</td>\n",
       "            <td>Female</td>\n",
       "            <td>0.0</td>\n",
       "            <td>1.2</td>\n",
       "            <td>1.1</td>\n",
       "            <td>No</td>\n",
       "            <td>85.0</td>\n",
       "            <td>8.0</td>\n",
       "            <td>Fair</td>\n",
       "            <td>6</td>\n",
       "            <td>Master</td>\n",
       "            <td>Average</td>\n",
       "            <td>8</td>\n",
       "            <td>Yes</td>\n",
       "            <td>56.2</td>\n",
       "        </tr>\n",
       "        <tr>\n",
       "            <td>S1001</td>\n",
       "            <td>20</td>\n",
       "            <td>Female</td>\n",
       "            <td>6.9</td>\n",
       "            <td>2.8</td>\n",
       "            <td>2.3</td>\n",
       "            <td>No</td>\n",
       "            <td>97.3</td>\n",
       "            <td>4.6</td>\n",
       "            <td>Good</td>\n",
       "            <td>6</td>\n",
       "            <td>High School</td>\n",
       "            <td>Average</td>\n",
       "            <td>8</td>\n",
       "            <td>No</td>\n",
       "            <td>100.0</td>\n",
       "        </tr>\n",
       "        <tr>\n",
       "            <td>S1002</td>\n",
       "            <td>21</td>\n",
       "            <td>Male</td>\n",
       "            <td>1.4</td>\n",
       "            <td>3.1</td>\n",
       "            <td>1.3</td>\n",
       "            <td>No</td>\n",
       "            <td>94.8</td>\n",
       "            <td>8.0</td>\n",
       "            <td>Poor</td>\n",
       "            <td>1</td>\n",
       "            <td>High School</td>\n",
       "            <td>Poor</td>\n",
       "            <td>1</td>\n",
       "            <td>No</td>\n",
       "            <td>34.3</td>\n",
       "        </tr>\n",
       "        <tr>\n",
       "            <td>S1003</td>\n",
       "            <td>23</td>\n",
       "            <td>Female</td>\n",
       "            <td>1.0</td>\n",
       "            <td>3.9</td>\n",
       "            <td>1.0</td>\n",
       "            <td>No</td>\n",
       "            <td>71.0</td>\n",
       "            <td>9.2</td>\n",
       "            <td>Poor</td>\n",
       "            <td>4</td>\n",
       "            <td>Master</td>\n",
       "            <td>Good</td>\n",
       "            <td>1</td>\n",
       "            <td>Yes</td>\n",
       "            <td>26.8</td>\n",
       "        </tr>\n",
       "        <tr>\n",
       "            <td>S1004</td>\n",
       "            <td>19</td>\n",
       "            <td>Female</td>\n",
       "            <td>5.0</td>\n",
       "            <td>4.4</td>\n",
       "            <td>0.5</td>\n",
       "            <td>No</td>\n",
       "            <td>90.9</td>\n",
       "            <td>4.9</td>\n",
       "            <td>Fair</td>\n",
       "            <td>3</td>\n",
       "            <td>Master</td>\n",
       "            <td>Good</td>\n",
       "            <td>1</td>\n",
       "            <td>No</td>\n",
       "            <td>66.4</td>\n",
       "        </tr>\n",
       "    </tbody>\n",
       "</table>"
      ],
      "text/plain": [
       "+------------+-----+--------+---------------------+--------------------+---------------+---------------+-----------------------+-------------+--------------+--------------------+--------------------------+------------------+----------------------+-------------------------------+------------+\n",
       "| student_id | age | gender | study_hours_per_day | social_media_hours | netflix_hours | part_time_job | attendance_percentage | sleep_hours | diet_quality | exercise_frequency | parental_education_level | internet_quality | mental_health_rating | extracurricular_participation | exam_score |\n",
       "+------------+-----+--------+---------------------+--------------------+---------------+---------------+-----------------------+-------------+--------------+--------------------+--------------------------+------------------+----------------------+-------------------------------+------------+\n",
       "|   S1000    |  23 | Female |         0.0         |        1.2         |      1.1      |       No      |          85.0         |     8.0     |     Fair     |         6          |          Master          |     Average      |          8           |              Yes              |    56.2    |\n",
       "|   S1001    |  20 | Female |         6.9         |        2.8         |      2.3      |       No      |          97.3         |     4.6     |     Good     |         6          |       High School        |     Average      |          8           |               No              |   100.0    |\n",
       "|   S1002    |  21 |  Male  |         1.4         |        3.1         |      1.3      |       No      |          94.8         |     8.0     |     Poor     |         1          |       High School        |       Poor       |          1           |               No              |    34.3    |\n",
       "|   S1003    |  23 | Female |         1.0         |        3.9         |      1.0      |       No      |          71.0         |     9.2     |     Poor     |         4          |          Master          |       Good       |          1           |              Yes              |    26.8    |\n",
       "|   S1004    |  19 | Female |         5.0         |        4.4         |      0.5      |       No      |          90.9         |     4.9     |     Fair     |         3          |          Master          |       Good       |          1           |               No              |    66.4    |\n",
       "+------------+-----+--------+---------------------+--------------------+---------------+---------------+-----------------------+-------------+--------------+--------------------+--------------------------+------------------+----------------------+-------------------------------+------------+"
      ]
     },
     "execution_count": 7,
     "metadata": {},
     "output_type": "execute_result"
    }
   ],
   "source": [
    "%%sql\n",
    "SELECT * FROM students LIMIT 5;\n"
   ]
  },
  {
   "cell_type": "code",
   "execution_count": 8,
   "id": "93eb7764-ed5b-43cb-bd96-4fdeaf352ea4",
   "metadata": {},
   "outputs": [],
   "source": [
    "#shows top 5 of data"
   ]
  },
  {
   "cell_type": "code",
   "execution_count": 9,
   "id": "c6daffdd-8e10-4ec8-baf0-4b26bc1b3b42",
   "metadata": {
    "scrolled": true
   },
   "outputs": [
    {
     "data": {
      "text/html": [
       "<span style=\"None\">Running query in &#x27;sqlite:///C:\\\\Users\\\\david\\\\SQL\\\\habvsper.db&#x27;</span>"
      ],
      "text/plain": [
       "Running query in 'sqlite:///C:\\\\Users\\\\david\\\\SQL\\\\habvsper.db'"
      ]
     },
     "metadata": {},
     "output_type": "display_data"
    },
    {
     "data": {
      "text/html": [
       "<table>\n",
       "    <thead>\n",
       "        <tr>\n",
       "            <th>study_hours_per_day</th>\n",
       "            <th>avg_score</th>\n",
       "        </tr>\n",
       "    </thead>\n",
       "    <tbody>\n",
       "        <tr>\n",
       "            <td>0.0</td>\n",
       "            <td>40.81</td>\n",
       "        </tr>\n",
       "        <tr>\n",
       "            <td>0.1</td>\n",
       "            <td>53.4</td>\n",
       "        </tr>\n",
       "        <tr>\n",
       "            <td>0.2</td>\n",
       "            <td>31.5</td>\n",
       "        </tr>\n",
       "        <tr>\n",
       "            <td>0.3</td>\n",
       "            <td>32.63</td>\n",
       "        </tr>\n",
       "        <tr>\n",
       "            <td>0.5</td>\n",
       "            <td>39.52</td>\n",
       "        </tr>\n",
       "        <tr>\n",
       "            <td>0.6</td>\n",
       "            <td>18.4</td>\n",
       "        </tr>\n",
       "        <tr>\n",
       "            <td>0.7</td>\n",
       "            <td>48.02</td>\n",
       "        </tr>\n",
       "        <tr>\n",
       "            <td>0.8</td>\n",
       "            <td>39.81</td>\n",
       "        </tr>\n",
       "        <tr>\n",
       "            <td>0.9</td>\n",
       "            <td>29.53</td>\n",
       "        </tr>\n",
       "        <tr>\n",
       "            <td>1.0</td>\n",
       "            <td>46.42</td>\n",
       "        </tr>\n",
       "    </tbody>\n",
       "</table>\n",
       "<span style=\"font-style:italic;text-align:center;\">Truncated to <a href=\"https://jupysql.ploomber.io/en/latest/api/configuration.html#displaylimit\">displaylimit</a> of 10.</span>"
      ],
      "text/plain": [
       "+---------------------+-----------+\n",
       "| study_hours_per_day | avg_score |\n",
       "+---------------------+-----------+\n",
       "|         0.0         |   40.81   |\n",
       "|         0.1         |    53.4   |\n",
       "|         0.2         |    31.5   |\n",
       "|         0.3         |   32.63   |\n",
       "|         0.5         |   39.52   |\n",
       "|         0.6         |    18.4   |\n",
       "|         0.7         |   48.02   |\n",
       "|         0.8         |   39.81   |\n",
       "|         0.9         |   29.53   |\n",
       "|         1.0         |   46.42   |\n",
       "+---------------------+-----------+\n",
       "Truncated to displaylimit of 10."
      ]
     },
     "execution_count": 9,
     "metadata": {},
     "output_type": "execute_result"
    }
   ],
   "source": [
    "%%sql\n",
    "SELECT study_hours_per_day, ROUND(AVG(exam_score),2) AS avg_score\n",
    "FROM students\n",
    "GROUP BY study_hours_per_day\n",
    "ORDER BY study_hours_per_day;\n"
   ]
  },
  {
   "cell_type": "code",
   "execution_count": 10,
   "id": "fdac3365-706b-4ecc-9ace-fe9dc812d96f",
   "metadata": {
    "scrolled": true
   },
   "outputs": [
    {
     "data": {
      "text/html": [
       "<span style=\"None\">Running query in &#x27;sqlite:///C:\\\\Users\\\\david\\\\SQL\\\\habvsper.db&#x27;</span>"
      ],
      "text/plain": [
       "Running query in 'sqlite:///C:\\\\Users\\\\david\\\\SQL\\\\habvsper.db'"
      ]
     },
     "metadata": {},
     "output_type": "display_data"
    },
    {
     "data": {
      "text/html": [
       "<table>\n",
       "    <thead>\n",
       "        <tr>\n",
       "            <th>social_media_hours</th>\n",
       "            <th>avg_score</th>\n",
       "        </tr>\n",
       "    </thead>\n",
       "    <tbody>\n",
       "        <tr>\n",
       "            <td>0.0</td>\n",
       "            <td>76.03</td>\n",
       "        </tr>\n",
       "        <tr>\n",
       "            <td>0.1</td>\n",
       "            <td>67.97</td>\n",
       "        </tr>\n",
       "        <tr>\n",
       "            <td>0.2</td>\n",
       "            <td>75.63</td>\n",
       "        </tr>\n",
       "        <tr>\n",
       "            <td>0.3</td>\n",
       "            <td>75.55</td>\n",
       "        </tr>\n",
       "        <tr>\n",
       "            <td>0.4</td>\n",
       "            <td>70.15</td>\n",
       "        </tr>\n",
       "        <tr>\n",
       "            <td>0.5</td>\n",
       "            <td>81.53</td>\n",
       "        </tr>\n",
       "        <tr>\n",
       "            <td>0.6</td>\n",
       "            <td>74.3</td>\n",
       "        </tr>\n",
       "        <tr>\n",
       "            <td>0.7</td>\n",
       "            <td>72.88</td>\n",
       "        </tr>\n",
       "        <tr>\n",
       "            <td>0.8</td>\n",
       "            <td>70.31</td>\n",
       "        </tr>\n",
       "        <tr>\n",
       "            <td>0.9</td>\n",
       "            <td>73.36</td>\n",
       "        </tr>\n",
       "    </tbody>\n",
       "</table>\n",
       "<span style=\"font-style:italic;text-align:center;\">Truncated to <a href=\"https://jupysql.ploomber.io/en/latest/api/configuration.html#displaylimit\">displaylimit</a> of 10.</span>"
      ],
      "text/plain": [
       "+--------------------+-----------+\n",
       "| social_media_hours | avg_score |\n",
       "+--------------------+-----------+\n",
       "|        0.0         |   76.03   |\n",
       "|        0.1         |   67.97   |\n",
       "|        0.2         |   75.63   |\n",
       "|        0.3         |   75.55   |\n",
       "|        0.4         |   70.15   |\n",
       "|        0.5         |   81.53   |\n",
       "|        0.6         |    74.3   |\n",
       "|        0.7         |   72.88   |\n",
       "|        0.8         |   70.31   |\n",
       "|        0.9         |   73.36   |\n",
       "+--------------------+-----------+\n",
       "Truncated to displaylimit of 10."
      ]
     },
     "execution_count": 10,
     "metadata": {},
     "output_type": "execute_result"
    }
   ],
   "source": [
    "%%sql\n",
    "SELECT social_media_hours, ROUND(AVG(exam_score),2) AS avg_score\n",
    "FROM students\n",
    "GROUP BY social_media_hours\n",
    "ORDER BY social_media_hours;\n",
    "\n",
    "\n",
    "\n"
   ]
  },
  {
   "cell_type": "code",
   "execution_count": 11,
   "id": "1dfe6138-0724-43ff-96da-694eca010174",
   "metadata": {
    "scrolled": true
   },
   "outputs": [
    {
     "data": {
      "text/html": [
       "<span style=\"None\">Running query in &#x27;sqlite:///C:\\\\Users\\\\david\\\\SQL\\\\habvsper.db&#x27;</span>"
      ],
      "text/plain": [
       "Running query in 'sqlite:///C:\\\\Users\\\\david\\\\SQL\\\\habvsper.db'"
      ]
     },
     "metadata": {},
     "output_type": "display_data"
    },
    {
     "data": {
      "text/html": [
       "<table>\n",
       "    <thead>\n",
       "        <tr>\n",
       "            <th>netflix_hours</th>\n",
       "            <th>avg_score</th>\n",
       "        </tr>\n",
       "    </thead>\n",
       "    <tbody>\n",
       "        <tr>\n",
       "            <td>0.0</td>\n",
       "            <td>75.73</td>\n",
       "        </tr>\n",
       "        <tr>\n",
       "            <td>0.1</td>\n",
       "            <td>72.71</td>\n",
       "        </tr>\n",
       "        <tr>\n",
       "            <td>0.2</td>\n",
       "            <td>78.97</td>\n",
       "        </tr>\n",
       "        <tr>\n",
       "            <td>0.3</td>\n",
       "            <td>75.37</td>\n",
       "        </tr>\n",
       "        <tr>\n",
       "            <td>0.4</td>\n",
       "            <td>76.41</td>\n",
       "        </tr>\n",
       "        <tr>\n",
       "            <td>0.5</td>\n",
       "            <td>73.03</td>\n",
       "        </tr>\n",
       "        <tr>\n",
       "            <td>0.6</td>\n",
       "            <td>74.71</td>\n",
       "        </tr>\n",
       "        <tr>\n",
       "            <td>0.7</td>\n",
       "            <td>68.84</td>\n",
       "        </tr>\n",
       "        <tr>\n",
       "            <td>0.8</td>\n",
       "            <td>70.87</td>\n",
       "        </tr>\n",
       "        <tr>\n",
       "            <td>0.9</td>\n",
       "            <td>74.79</td>\n",
       "        </tr>\n",
       "    </tbody>\n",
       "</table>\n",
       "<span style=\"font-style:italic;text-align:center;\">Truncated to <a href=\"https://jupysql.ploomber.io/en/latest/api/configuration.html#displaylimit\">displaylimit</a> of 10.</span>"
      ],
      "text/plain": [
       "+---------------+-----------+\n",
       "| netflix_hours | avg_score |\n",
       "+---------------+-----------+\n",
       "|      0.0      |   75.73   |\n",
       "|      0.1      |   72.71   |\n",
       "|      0.2      |   78.97   |\n",
       "|      0.3      |   75.37   |\n",
       "|      0.4      |   76.41   |\n",
       "|      0.5      |   73.03   |\n",
       "|      0.6      |   74.71   |\n",
       "|      0.7      |   68.84   |\n",
       "|      0.8      |   70.87   |\n",
       "|      0.9      |   74.79   |\n",
       "+---------------+-----------+\n",
       "Truncated to displaylimit of 10."
      ]
     },
     "execution_count": 11,
     "metadata": {},
     "output_type": "execute_result"
    }
   ],
   "source": [
    "%%sql\n",
    "SELECT netflix_hours, ROUND(AVG(exam_score),2) AS avg_score\n",
    "FROM students\n",
    "GROUP BY netflix_hours\n",
    "ORDER BY netflix_hours;"
   ]
  },
  {
   "cell_type": "code",
   "execution_count": 12,
   "id": "b3c99aa2-cc2a-4497-a8b2-606b3746d389",
   "metadata": {
    "scrolled": true
   },
   "outputs": [
    {
     "data": {
      "text/html": [
       "<span style=\"None\">Running query in &#x27;sqlite:///C:\\\\Users\\\\david\\\\SQL\\\\habvsper.db&#x27;</span>"
      ],
      "text/plain": [
       "Running query in 'sqlite:///C:\\\\Users\\\\david\\\\SQL\\\\habvsper.db'"
      ]
     },
     "metadata": {},
     "output_type": "display_data"
    },
    {
     "data": {
      "text/html": [
       "<table>\n",
       "    <thead>\n",
       "        <tr>\n",
       "            <th>sleep_hours</th>\n",
       "            <th>avg_mental_health</th>\n",
       "            <th>avg_score</th>\n",
       "        </tr>\n",
       "    </thead>\n",
       "    <tbody>\n",
       "        <tr>\n",
       "            <td>3.2</td>\n",
       "            <td>8.0</td>\n",
       "            <td>90.8</td>\n",
       "        </tr>\n",
       "        <tr>\n",
       "            <td>3.3</td>\n",
       "            <td>7.67</td>\n",
       "            <td>62.0</td>\n",
       "        </tr>\n",
       "        <tr>\n",
       "            <td>3.4</td>\n",
       "            <td>7.0</td>\n",
       "            <td>49.9</td>\n",
       "        </tr>\n",
       "        <tr>\n",
       "            <td>3.5</td>\n",
       "            <td>4.0</td>\n",
       "            <td>62.25</td>\n",
       "        </tr>\n",
       "        <tr>\n",
       "            <td>3.6</td>\n",
       "            <td>5.0</td>\n",
       "            <td>62.0</td>\n",
       "        </tr>\n",
       "        <tr>\n",
       "            <td>3.7</td>\n",
       "            <td>3.0</td>\n",
       "            <td>58.9</td>\n",
       "        </tr>\n",
       "        <tr>\n",
       "            <td>3.8</td>\n",
       "            <td>5.0</td>\n",
       "            <td>50.27</td>\n",
       "        </tr>\n",
       "        <tr>\n",
       "            <td>3.9</td>\n",
       "            <td>3.5</td>\n",
       "            <td>59.4</td>\n",
       "        </tr>\n",
       "        <tr>\n",
       "            <td>4.0</td>\n",
       "            <td>4.6</td>\n",
       "            <td>58.62</td>\n",
       "        </tr>\n",
       "        <tr>\n",
       "            <td>4.1</td>\n",
       "            <td>5.17</td>\n",
       "            <td>56.93</td>\n",
       "        </tr>\n",
       "    </tbody>\n",
       "</table>\n",
       "<span style=\"font-style:italic;text-align:center;\">Truncated to <a href=\"https://jupysql.ploomber.io/en/latest/api/configuration.html#displaylimit\">displaylimit</a> of 10.</span>"
      ],
      "text/plain": [
       "+-------------+-------------------+-----------+\n",
       "| sleep_hours | avg_mental_health | avg_score |\n",
       "+-------------+-------------------+-----------+\n",
       "|     3.2     |        8.0        |    90.8   |\n",
       "|     3.3     |        7.67       |    62.0   |\n",
       "|     3.4     |        7.0        |    49.9   |\n",
       "|     3.5     |        4.0        |   62.25   |\n",
       "|     3.6     |        5.0        |    62.0   |\n",
       "|     3.7     |        3.0        |    58.9   |\n",
       "|     3.8     |        5.0        |   50.27   |\n",
       "|     3.9     |        3.5        |    59.4   |\n",
       "|     4.0     |        4.6        |   58.62   |\n",
       "|     4.1     |        5.17       |   56.93   |\n",
       "+-------------+-------------------+-----------+\n",
       "Truncated to displaylimit of 10."
      ]
     },
     "execution_count": 12,
     "metadata": {},
     "output_type": "execute_result"
    }
   ],
   "source": [
    "%%sql\n",
    "SELECT sleep_hours, ROUND(AVG(mental_health_rating),2) AS avg_mental_health, ROUND(AVG(exam_score),2) AS avg_score\n",
    "FROM students\n",
    "GROUP BY sleep_hours\n",
    "ORDER BY sleep_hours;"
   ]
  },
  {
   "cell_type": "code",
   "execution_count": 13,
   "id": "a000e572-5fbc-4333-9f90-59cb4f317cd7",
   "metadata": {},
   "outputs": [
    {
     "data": {
      "text/html": [
       "<span style=\"None\">Running query in &#x27;sqlite:///C:\\\\Users\\\\david\\\\SQL\\\\habvsper.db&#x27;</span>"
      ],
      "text/plain": [
       "Running query in 'sqlite:///C:\\\\Users\\\\david\\\\SQL\\\\habvsper.db'"
      ]
     },
     "metadata": {},
     "output_type": "display_data"
    },
    {
     "data": {
      "text/html": [
       "<table>\n",
       "    <thead>\n",
       "        <tr>\n",
       "            <th>part_time_job</th>\n",
       "            <th>avg_score</th>\n",
       "        </tr>\n",
       "    </thead>\n",
       "    <tbody>\n",
       "        <tr>\n",
       "            <td>No</td>\n",
       "            <td>69.84</td>\n",
       "        </tr>\n",
       "        <tr>\n",
       "            <td>Yes</td>\n",
       "            <td>68.74</td>\n",
       "        </tr>\n",
       "    </tbody>\n",
       "</table>"
      ],
      "text/plain": [
       "+---------------+-----------+\n",
       "| part_time_job | avg_score |\n",
       "+---------------+-----------+\n",
       "|       No      |   69.84   |\n",
       "|      Yes      |   68.74   |\n",
       "+---------------+-----------+"
      ]
     },
     "execution_count": 13,
     "metadata": {},
     "output_type": "execute_result"
    }
   ],
   "source": [
    "%%sql\n",
    "SELECT part_time_job, ROUND(AVG(exam_score),2) AS avg_score\n",
    "FROM students\n",
    "GROUP BY part_time_job;\n"
   ]
  },
  {
   "cell_type": "code",
   "execution_count": 14,
   "id": "9535ded6-9491-4e60-9b5a-9b81ddd22120",
   "metadata": {},
   "outputs": [
    {
     "data": {
      "text/html": [
       "<span style=\"None\">Running query in &#x27;sqlite:///C:\\\\Users\\\\david\\\\SQL\\\\habvsper.db&#x27;</span>"
      ],
      "text/plain": [
       "Running query in 'sqlite:///C:\\\\Users\\\\david\\\\SQL\\\\habvsper.db'"
      ]
     },
     "metadata": {},
     "output_type": "display_data"
    },
    {
     "data": {
      "text/html": [
       "<table>\n",
       "    <thead>\n",
       "        <tr>\n",
       "            <th>attendance_group</th>\n",
       "            <th>avg_score</th>\n",
       "        </tr>\n",
       "    </thead>\n",
       "    <tbody>\n",
       "        <tr>\n",
       "            <td>50-74%</td>\n",
       "            <td>67.94</td>\n",
       "        </tr>\n",
       "        <tr>\n",
       "            <td>75-89%</td>\n",
       "            <td>69.2</td>\n",
       "        </tr>\n",
       "        <tr>\n",
       "            <td>90-100%</td>\n",
       "            <td>71.39</td>\n",
       "        </tr>\n",
       "    </tbody>\n",
       "</table>"
      ],
      "text/plain": [
       "+------------------+-----------+\n",
       "| attendance_group | avg_score |\n",
       "+------------------+-----------+\n",
       "|      50-74%      |   67.94   |\n",
       "|      75-89%      |    69.2   |\n",
       "|     90-100%      |   71.39   |\n",
       "+------------------+-----------+"
      ]
     },
     "execution_count": 14,
     "metadata": {},
     "output_type": "execute_result"
    }
   ],
   "source": [
    "%%sql\n",
    "SELECT\n",
    "  CASE\n",
    "    WHEN attendance_percentage >= 90 THEN '90-100%'\n",
    "    WHEN attendance_percentage >= 75 THEN '75-89%'\n",
    "    WHEN attendance_percentage >= 50 THEN '50-74%'\n",
    "    ELSE '<50%'\n",
    "  END AS attendance_group,\n",
    "  ROUND(AVG(exam_score),2) AS avg_score\n",
    "FROM students\n",
    "GROUP BY attendance_group\n",
    "ORDER BY attendance_group;\n"
   ]
  },
  {
   "cell_type": "code",
   "execution_count": 15,
   "id": "2f4b94ba-e763-4d83-b4da-e4ee6b256781",
   "metadata": {},
   "outputs": [],
   "source": [
    "#grouping attendance allows for a more meaningful relationship"
   ]
  },
  {
   "cell_type": "code",
   "execution_count": 16,
   "id": "28cc3418-ed74-42fb-9a55-a7c5ba0cc117",
   "metadata": {},
   "outputs": [
    {
     "data": {
      "text/html": [
       "<span style=\"None\">Running query in &#x27;sqlite:///C:\\\\Users\\\\david\\\\SQL\\\\habvsper.db&#x27;</span>"
      ],
      "text/plain": [
       "Running query in 'sqlite:///C:\\\\Users\\\\david\\\\SQL\\\\habvsper.db'"
      ]
     },
     "metadata": {},
     "output_type": "display_data"
    },
    {
     "data": {
      "text/html": [
       "<table>\n",
       "    <thead>\n",
       "        <tr>\n",
       "            <th>internet_quality</th>\n",
       "            <th>avg_score</th>\n",
       "        </tr>\n",
       "    </thead>\n",
       "    <tbody>\n",
       "        <tr>\n",
       "            <td>Average</td>\n",
       "            <td>70.64</td>\n",
       "        </tr>\n",
       "        <tr>\n",
       "            <td>Good</td>\n",
       "            <td>68.65</td>\n",
       "        </tr>\n",
       "        <tr>\n",
       "            <td>Poor</td>\n",
       "            <td>69.72</td>\n",
       "        </tr>\n",
       "    </tbody>\n",
       "</table>"
      ],
      "text/plain": [
       "+------------------+-----------+\n",
       "| internet_quality | avg_score |\n",
       "+------------------+-----------+\n",
       "|     Average      |   70.64   |\n",
       "|       Good       |   68.65   |\n",
       "|       Poor       |   69.72   |\n",
       "+------------------+-----------+"
      ]
     },
     "execution_count": 16,
     "metadata": {},
     "output_type": "execute_result"
    }
   ],
   "source": [
    "%%sql\n",
    "SELECT internet_quality, ROUND(AVG(exam_score),2) AS avg_score\n",
    "FROM students\n",
    "GROUP BY internet_quality;\n"
   ]
  },
  {
   "cell_type": "code",
   "execution_count": 17,
   "id": "4a2965a4-dc8f-4b03-a0e3-8c2ae648a41a",
   "metadata": {},
   "outputs": [
    {
     "data": {
      "text/html": [
       "<span style=\"None\">Running query in &#x27;sqlite:///C:\\\\Users\\\\david\\\\SQL\\\\habvsper.db&#x27;</span>"
      ],
      "text/plain": [
       "Running query in 'sqlite:///C:\\\\Users\\\\david\\\\SQL\\\\habvsper.db'"
      ]
     },
     "metadata": {},
     "output_type": "display_data"
    },
    {
     "data": {
      "text/html": [
       "<table>\n",
       "    <thead>\n",
       "        <tr>\n",
       "            <th>parental_education_level</th>\n",
       "            <th>avg_score</th>\n",
       "        </tr>\n",
       "    </thead>\n",
       "    <tbody>\n",
       "        <tr>\n",
       "            <td>None</td>\n",
       "            <td>70.03</td>\n",
       "        </tr>\n",
       "        <tr>\n",
       "            <td>Bachelor</td>\n",
       "            <td>70.27</td>\n",
       "        </tr>\n",
       "        <tr>\n",
       "            <td>High School</td>\n",
       "            <td>69.55</td>\n",
       "        </tr>\n",
       "        <tr>\n",
       "            <td>Master</td>\n",
       "            <td>68.09</td>\n",
       "        </tr>\n",
       "    </tbody>\n",
       "</table>"
      ],
      "text/plain": [
       "+--------------------------+-----------+\n",
       "| parental_education_level | avg_score |\n",
       "+--------------------------+-----------+\n",
       "|           None           |   70.03   |\n",
       "|         Bachelor         |   70.27   |\n",
       "|       High School        |   69.55   |\n",
       "|          Master          |   68.09   |\n",
       "+--------------------------+-----------+"
      ]
     },
     "execution_count": 17,
     "metadata": {},
     "output_type": "execute_result"
    }
   ],
   "source": [
    "%%sql\n",
    "SELECT parental_education_level, ROUND(AVG(exam_score),2) AS avg_score\n",
    "FROM students\n",
    "GROUP BY parental_education_level;\n"
   ]
  },
  {
   "cell_type": "code",
   "execution_count": 18,
   "id": "ca09d611-b5d6-4aa3-916d-ba2d43d32608",
   "metadata": {},
   "outputs": [
    {
     "data": {
      "text/html": [
       "<span style=\"None\">Running query in &#x27;sqlite:///C:\\\\Users\\\\david\\\\SQL\\\\habvsper.db&#x27;</span>"
      ],
      "text/plain": [
       "Running query in 'sqlite:///C:\\\\Users\\\\david\\\\SQL\\\\habvsper.db'"
      ]
     },
     "metadata": {},
     "output_type": "display_data"
    },
    {
     "data": {
      "text/html": [
       "<table>\n",
       "    <thead>\n",
       "        <tr>\n",
       "            <th>gender</th>\n",
       "            <th>avg_score</th>\n",
       "        </tr>\n",
       "    </thead>\n",
       "    <tbody>\n",
       "        <tr>\n",
       "            <td>Female</td>\n",
       "            <td>69.74</td>\n",
       "        </tr>\n",
       "        <tr>\n",
       "            <td>Male</td>\n",
       "            <td>69.37</td>\n",
       "        </tr>\n",
       "        <tr>\n",
       "            <td>Other</td>\n",
       "            <td>70.65</td>\n",
       "        </tr>\n",
       "    </tbody>\n",
       "</table>"
      ],
      "text/plain": [
       "+--------+-----------+\n",
       "| gender | avg_score |\n",
       "+--------+-----------+\n",
       "| Female |   69.74   |\n",
       "|  Male  |   69.37   |\n",
       "| Other  |   70.65   |\n",
       "+--------+-----------+"
      ]
     },
     "execution_count": 18,
     "metadata": {},
     "output_type": "execute_result"
    }
   ],
   "source": [
    "%%sql\n",
    "SELECT gender, ROUND(AVG(exam_score),2) AS avg_score\n",
    "FROM students\n",
    "GROUP BY gender;\n"
   ]
  },
  {
   "cell_type": "code",
   "execution_count": 19,
   "id": "94756ade-a916-4381-a5fb-731ae35771dc",
   "metadata": {},
   "outputs": [
    {
     "data": {
      "text/html": [
       "<span style=\"None\">Running query in &#x27;sqlite:///C:\\\\Users\\\\david\\\\SQL\\\\habvsper.db&#x27;</span>"
      ],
      "text/plain": [
       "Running query in 'sqlite:///C:\\\\Users\\\\david\\\\SQL\\\\habvsper.db'"
      ]
     },
     "metadata": {},
     "output_type": "display_data"
    },
    {
     "data": {
      "text/html": [
       "<table>\n",
       "    <thead>\n",
       "        <tr>\n",
       "            <th>extracurricular_participation</th>\n",
       "            <th>avg_score</th>\n",
       "        </tr>\n",
       "    </thead>\n",
       "    <tbody>\n",
       "        <tr>\n",
       "            <td>No</td>\n",
       "            <td>69.59</td>\n",
       "        </tr>\n",
       "        <tr>\n",
       "            <td>Yes</td>\n",
       "            <td>69.62</td>\n",
       "        </tr>\n",
       "    </tbody>\n",
       "</table>"
      ],
      "text/plain": [
       "+-------------------------------+-----------+\n",
       "| extracurricular_participation | avg_score |\n",
       "+-------------------------------+-----------+\n",
       "|               No              |   69.59   |\n",
       "|              Yes              |   69.62   |\n",
       "+-------------------------------+-----------+"
      ]
     },
     "execution_count": 19,
     "metadata": {},
     "output_type": "execute_result"
    }
   ],
   "source": [
    "%%sql\n",
    "SELECT extracurricular_participation, ROUND(AVG(exam_score),2) AS avg_score\n",
    "FROM students\n",
    "GROUP BY extracurricular_participation;\n"
   ]
  },
  {
   "cell_type": "code",
   "execution_count": 20,
   "id": "9162b402-308b-4a8e-b2ca-15b67d1677e4",
   "metadata": {
    "scrolled": true
   },
   "outputs": [
    {
     "data": {
      "text/html": [
       "<span style=\"None\">Running query in &#x27;sqlite:///C:\\\\Users\\\\david\\\\SQL\\\\habvsper.db&#x27;</span>"
      ],
      "text/plain": [
       "Running query in 'sqlite:///C:\\\\Users\\\\david\\\\SQL\\\\habvsper.db'"
      ]
     },
     "metadata": {},
     "output_type": "display_data"
    },
    {
     "data": {
      "text/html": [
       "<table>\n",
       "    <thead>\n",
       "        <tr>\n",
       "            <th>study_hours_per_day</th>\n",
       "            <th>social_media_hours</th>\n",
       "            <th>avg_score</th>\n",
       "        </tr>\n",
       "    </thead>\n",
       "    <tbody>\n",
       "        <tr>\n",
       "            <td>0.0</td>\n",
       "            <td>0.3</td>\n",
       "            <td>53.3</td>\n",
       "        </tr>\n",
       "        <tr>\n",
       "            <td>0.0</td>\n",
       "            <td>1.2</td>\n",
       "            <td>56.2</td>\n",
       "        </tr>\n",
       "        <tr>\n",
       "            <td>0.0</td>\n",
       "            <td>1.4</td>\n",
       "            <td>50.1</td>\n",
       "        </tr>\n",
       "        <tr>\n",
       "            <td>0.0</td>\n",
       "            <td>1.9</td>\n",
       "            <td>55.2</td>\n",
       "        </tr>\n",
       "        <tr>\n",
       "            <td>0.0</td>\n",
       "            <td>2.0</td>\n",
       "            <td>29.9</td>\n",
       "        </tr>\n",
       "        <tr>\n",
       "            <td>0.0</td>\n",
       "            <td>2.4</td>\n",
       "            <td>41.75</td>\n",
       "        </tr>\n",
       "        <tr>\n",
       "            <td>0.0</td>\n",
       "            <td>2.6</td>\n",
       "            <td>32.9</td>\n",
       "        </tr>\n",
       "        <tr>\n",
       "            <td>0.0</td>\n",
       "            <td>2.8</td>\n",
       "            <td>26.7</td>\n",
       "        </tr>\n",
       "        <tr>\n",
       "            <td>0.0</td>\n",
       "            <td>3.5</td>\n",
       "            <td>26.2</td>\n",
       "        </tr>\n",
       "        <tr>\n",
       "            <td>0.0</td>\n",
       "            <td>3.8</td>\n",
       "            <td>31.1</td>\n",
       "        </tr>\n",
       "    </tbody>\n",
       "</table>\n",
       "<span style=\"font-style:italic;text-align:center;\">Truncated to <a href=\"https://jupysql.ploomber.io/en/latest/api/configuration.html#displaylimit\">displaylimit</a> of 10.</span>"
      ],
      "text/plain": [
       "+---------------------+--------------------+-----------+\n",
       "| study_hours_per_day | social_media_hours | avg_score |\n",
       "+---------------------+--------------------+-----------+\n",
       "|         0.0         |        0.3         |    53.3   |\n",
       "|         0.0         |        1.2         |    56.2   |\n",
       "|         0.0         |        1.4         |    50.1   |\n",
       "|         0.0         |        1.9         |    55.2   |\n",
       "|         0.0         |        2.0         |    29.9   |\n",
       "|         0.0         |        2.4         |   41.75   |\n",
       "|         0.0         |        2.6         |    32.9   |\n",
       "|         0.0         |        2.8         |    26.7   |\n",
       "|         0.0         |        3.5         |    26.2   |\n",
       "|         0.0         |        3.8         |    31.1   |\n",
       "+---------------------+--------------------+-----------+\n",
       "Truncated to displaylimit of 10."
      ]
     },
     "execution_count": 20,
     "metadata": {},
     "output_type": "execute_result"
    }
   ],
   "source": [
    "%%sql\n",
    "SELECT study_hours_per_day, social_media_hours, ROUND(AVG(exam_score),2) AS avg_score\n",
    "FROM students\n",
    "GROUP BY study_hours_per_day, social_media_hours\n",
    "ORDER BY study_hours_per_day, social_media_hours;\n"
   ]
  },
  {
   "cell_type": "code",
   "execution_count": 23,
   "id": "5dd5be8b-8f52-4b6b-93dd-6858109a9054",
   "metadata": {
    "scrolled": true
   },
   "outputs": [
    {
     "data": {
      "text/html": [
       "<span style=\"None\">Running query in &#x27;sqlite:///C:\\\\Users\\\\david\\\\SQL\\\\habvsper.db&#x27;</span>"
      ],
      "text/plain": [
       "Running query in 'sqlite:///C:\\\\Users\\\\david\\\\SQL\\\\habvsper.db'"
      ]
     },
     "metadata": {},
     "output_type": "display_data"
    },
    {
     "data": {
      "text/html": [
       "<table>\n",
       "    <thead>\n",
       "        <tr>\n",
       "            <th>student_num</th>\n",
       "            <th>student_id</th>\n",
       "            <th>age</th>\n",
       "            <th>gender</th>\n",
       "            <th>study_hours_per_day</th>\n",
       "            <th>social_media_hours</th>\n",
       "            <th>netflix_hours</th>\n",
       "            <th>part_time_job</th>\n",
       "            <th>attendance_percentage</th>\n",
       "            <th>sleep_hours</th>\n",
       "            <th>diet_quality</th>\n",
       "            <th>exercise_frequency</th>\n",
       "            <th>parental_education_level</th>\n",
       "            <th>internet_quality</th>\n",
       "            <th>mental_health_rating</th>\n",
       "            <th>extracurricular_participation</th>\n",
       "            <th>exam_score</th>\n",
       "        </tr>\n",
       "    </thead>\n",
       "    <tbody>\n",
       "        <tr>\n",
       "            <td>2</td>\n",
       "            <td>S1001</td>\n",
       "            <td>20</td>\n",
       "            <td>Female</td>\n",
       "            <td>6.9</td>\n",
       "            <td>2.8</td>\n",
       "            <td>2.3</td>\n",
       "            <td>No</td>\n",
       "            <td>97.3</td>\n",
       "            <td>4.6</td>\n",
       "            <td>Good</td>\n",
       "            <td>6</td>\n",
       "            <td>High School</td>\n",
       "            <td>Average</td>\n",
       "            <td>8</td>\n",
       "            <td>No</td>\n",
       "            <td>100.0</td>\n",
       "        </tr>\n",
       "        <tr>\n",
       "            <td>6</td>\n",
       "            <td>S1005</td>\n",
       "            <td>24</td>\n",
       "            <td>Male</td>\n",
       "            <td>7.2</td>\n",
       "            <td>1.3</td>\n",
       "            <td>0.0</td>\n",
       "            <td>No</td>\n",
       "            <td>82.9</td>\n",
       "            <td>7.4</td>\n",
       "            <td>Fair</td>\n",
       "            <td>1</td>\n",
       "            <td>Master</td>\n",
       "            <td>Average</td>\n",
       "            <td>4</td>\n",
       "            <td>No</td>\n",
       "            <td>100.0</td>\n",
       "        </tr>\n",
       "        <tr>\n",
       "            <td>10</td>\n",
       "            <td>S1009</td>\n",
       "            <td>18</td>\n",
       "            <td>Female</td>\n",
       "            <td>4.8</td>\n",
       "            <td>3.1</td>\n",
       "            <td>1.3</td>\n",
       "            <td>No</td>\n",
       "            <td>95.4</td>\n",
       "            <td>7.5</td>\n",
       "            <td>Good</td>\n",
       "            <td>5</td>\n",
       "            <td>Bachelor</td>\n",
       "            <td>Good</td>\n",
       "            <td>10</td>\n",
       "            <td>Yes</td>\n",
       "            <td>100.0</td>\n",
       "        </tr>\n",
       "        <tr>\n",
       "            <td>70</td>\n",
       "            <td>S1069</td>\n",
       "            <td>22</td>\n",
       "            <td>Male</td>\n",
       "            <td>6.8</td>\n",
       "            <td>3.7</td>\n",
       "            <td>1.8</td>\n",
       "            <td>No</td>\n",
       "            <td>72.3</td>\n",
       "            <td>7.5</td>\n",
       "            <td>Poor</td>\n",
       "            <td>6</td>\n",
       "            <td>Master</td>\n",
       "            <td>Average</td>\n",
       "            <td>5</td>\n",
       "            <td>No</td>\n",
       "            <td>100.0</td>\n",
       "        </tr>\n",
       "        <tr>\n",
       "            <td>77</td>\n",
       "            <td>S1076</td>\n",
       "            <td>20</td>\n",
       "            <td>Male</td>\n",
       "            <td>6.0</td>\n",
       "            <td>2.5</td>\n",
       "            <td>2.9</td>\n",
       "            <td>No</td>\n",
       "            <td>85.1</td>\n",
       "            <td>6.7</td>\n",
       "            <td>Poor</td>\n",
       "            <td>5</td>\n",
       "            <td>Bachelor</td>\n",
       "            <td>Average</td>\n",
       "            <td>10</td>\n",
       "            <td>Yes</td>\n",
       "            <td>100.0</td>\n",
       "        </tr>\n",
       "        <tr>\n",
       "            <td>132</td>\n",
       "            <td>S1131</td>\n",
       "            <td>21</td>\n",
       "            <td>Female</td>\n",
       "            <td>7.2</td>\n",
       "            <td>3.7</td>\n",
       "            <td>0.0</td>\n",
       "            <td>No</td>\n",
       "            <td>100.0</td>\n",
       "            <td>7.8</td>\n",
       "            <td>Good</td>\n",
       "            <td>6</td>\n",
       "            <td>High School</td>\n",
       "            <td>Good</td>\n",
       "            <td>9</td>\n",
       "            <td>No</td>\n",
       "            <td>100.0</td>\n",
       "        </tr>\n",
       "        <tr>\n",
       "            <td>215</td>\n",
       "            <td>S1214</td>\n",
       "            <td>19</td>\n",
       "            <td>Male</td>\n",
       "            <td>5.7</td>\n",
       "            <td>3.8</td>\n",
       "            <td>0.0</td>\n",
       "            <td>No</td>\n",
       "            <td>100.0</td>\n",
       "            <td>8.8</td>\n",
       "            <td>Fair</td>\n",
       "            <td>3</td>\n",
       "            <td>None</td>\n",
       "            <td>Average</td>\n",
       "            <td>7</td>\n",
       "            <td>No</td>\n",
       "            <td>100.0</td>\n",
       "        </tr>\n",
       "        <tr>\n",
       "            <td>220</td>\n",
       "            <td>S1219</td>\n",
       "            <td>23</td>\n",
       "            <td>Female</td>\n",
       "            <td>6.2</td>\n",
       "            <td>2.8</td>\n",
       "            <td>1.0</td>\n",
       "            <td>No</td>\n",
       "            <td>84.9</td>\n",
       "            <td>7.0</td>\n",
       "            <td>Fair</td>\n",
       "            <td>5</td>\n",
       "            <td>Master</td>\n",
       "            <td>Good</td>\n",
       "            <td>4</td>\n",
       "            <td>No</td>\n",
       "            <td>100.0</td>\n",
       "        </tr>\n",
       "        <tr>\n",
       "            <td>223</td>\n",
       "            <td>S1222</td>\n",
       "            <td>22</td>\n",
       "            <td>Male</td>\n",
       "            <td>6.7</td>\n",
       "            <td>2.9</td>\n",
       "            <td>2.0</td>\n",
       "            <td>No</td>\n",
       "            <td>83.2</td>\n",
       "            <td>6.6</td>\n",
       "            <td>Good</td>\n",
       "            <td>6</td>\n",
       "            <td>Bachelor</td>\n",
       "            <td>Average</td>\n",
       "            <td>5</td>\n",
       "            <td>No</td>\n",
       "            <td>100.0</td>\n",
       "        </tr>\n",
       "        <tr>\n",
       "            <td>231</td>\n",
       "            <td>S1230</td>\n",
       "            <td>22</td>\n",
       "            <td>Male</td>\n",
       "            <td>4.2</td>\n",
       "            <td>0.3</td>\n",
       "            <td>0.1</td>\n",
       "            <td>No</td>\n",
       "            <td>80.0</td>\n",
       "            <td>7.9</td>\n",
       "            <td>Poor</td>\n",
       "            <td>3</td>\n",
       "            <td>High School</td>\n",
       "            <td>Poor</td>\n",
       "            <td>9</td>\n",
       "            <td>Yes</td>\n",
       "            <td>100.0</td>\n",
       "        </tr>\n",
       "    </tbody>\n",
       "</table>\n",
       "<span style=\"font-style:italic;text-align:center;\">Truncated to <a href=\"https://jupysql.ploomber.io/en/latest/api/configuration.html#displaylimit\">displaylimit</a> of 10.</span>"
      ],
      "text/plain": [
       "+-------------+------------+-----+--------+---------------------+--------------------+---------------+---------------+-----------------------+-------------+--------------+--------------------+--------------------------+------------------+----------------------+-------------------------------+------------+\n",
       "| student_num | student_id | age | gender | study_hours_per_day | social_media_hours | netflix_hours | part_time_job | attendance_percentage | sleep_hours | diet_quality | exercise_frequency | parental_education_level | internet_quality | mental_health_rating | extracurricular_participation | exam_score |\n",
       "+-------------+------------+-----+--------+---------------------+--------------------+---------------+---------------+-----------------------+-------------+--------------+--------------------+--------------------------+------------------+----------------------+-------------------------------+------------+\n",
       "|      2      |   S1001    |  20 | Female |         6.9         |        2.8         |      2.3      |       No      |          97.3         |     4.6     |     Good     |         6          |       High School        |     Average      |          8           |               No              |   100.0    |\n",
       "|      6      |   S1005    |  24 |  Male  |         7.2         |        1.3         |      0.0      |       No      |          82.9         |     7.4     |     Fair     |         1          |          Master          |     Average      |          4           |               No              |   100.0    |\n",
       "|      10     |   S1009    |  18 | Female |         4.8         |        3.1         |      1.3      |       No      |          95.4         |     7.5     |     Good     |         5          |         Bachelor         |       Good       |          10          |              Yes              |   100.0    |\n",
       "|      70     |   S1069    |  22 |  Male  |         6.8         |        3.7         |      1.8      |       No      |          72.3         |     7.5     |     Poor     |         6          |          Master          |     Average      |          5           |               No              |   100.0    |\n",
       "|      77     |   S1076    |  20 |  Male  |         6.0         |        2.5         |      2.9      |       No      |          85.1         |     6.7     |     Poor     |         5          |         Bachelor         |     Average      |          10          |              Yes              |   100.0    |\n",
       "|     132     |   S1131    |  21 | Female |         7.2         |        3.7         |      0.0      |       No      |         100.0         |     7.8     |     Good     |         6          |       High School        |       Good       |          9           |               No              |   100.0    |\n",
       "|     215     |   S1214    |  19 |  Male  |         5.7         |        3.8         |      0.0      |       No      |         100.0         |     8.8     |     Fair     |         3          |           None           |     Average      |          7           |               No              |   100.0    |\n",
       "|     220     |   S1219    |  23 | Female |         6.2         |        2.8         |      1.0      |       No      |          84.9         |     7.0     |     Fair     |         5          |          Master          |       Good       |          4           |               No              |   100.0    |\n",
       "|     223     |   S1222    |  22 |  Male  |         6.7         |        2.9         |      2.0      |       No      |          83.2         |     6.6     |     Good     |         6          |         Bachelor         |     Average      |          5           |               No              |   100.0    |\n",
       "|     231     |   S1230    |  22 |  Male  |         4.2         |        0.3         |      0.1      |       No      |          80.0         |     7.9     |     Poor     |         3          |       High School        |       Poor       |          9           |              Yes              |   100.0    |\n",
       "+-------------+------------+-----+--------+---------------------+--------------------+---------------+---------------+-----------------------+-------------+--------------+--------------------+--------------------------+------------------+----------------------+-------------------------------+------------+\n",
       "Truncated to displaylimit of 10."
      ]
     },
     "execution_count": 23,
     "metadata": {},
     "output_type": "execute_result"
    }
   ],
   "source": [
    "%%sql\n",
    "Select * FROM students_new WHERE exam_score>=90 ORDER BY exam_score DESC"
   ]
  },
  {
   "cell_type": "code",
   "execution_count": 27,
   "id": "cdbde174-41f2-4911-beb9-b0b1f0d54613",
   "metadata": {},
   "outputs": [],
   "source": [
    "#relationships for the table that is filtered for the A students"
   ]
  },
  {
   "cell_type": "code",
   "execution_count": 26,
   "id": "fe3ecd5a-5558-47da-85fa-38c773ec7929",
   "metadata": {},
   "outputs": [
    {
     "data": {
      "text/html": [
       "<span style=\"None\">Running query in &#x27;sqlite:///C:\\\\Users\\\\david\\\\SQL\\\\habvsper.db&#x27;</span>"
      ],
      "text/plain": [
       "Running query in 'sqlite:///C:\\\\Users\\\\david\\\\SQL\\\\habvsper.db'"
      ]
     },
     "metadata": {},
     "output_type": "display_data"
    },
    {
     "data": {
      "text/html": [
       "<table>\n",
       "    <thead>\n",
       "        <tr>\n",
       "            <th>diet_quality</th>\n",
       "            <th>Average_Sleep</th>\n",
       "        </tr>\n",
       "    </thead>\n",
       "    <tbody>\n",
       "        <tr>\n",
       "            <td>Fair</td>\n",
       "            <td>6.9</td>\n",
       "        </tr>\n",
       "        <tr>\n",
       "            <td>Good</td>\n",
       "            <td>6.4</td>\n",
       "        </tr>\n",
       "        <tr>\n",
       "            <td>Poor</td>\n",
       "            <td>6.8</td>\n",
       "        </tr>\n",
       "    </tbody>\n",
       "</table>"
      ],
      "text/plain": [
       "+--------------+---------------+\n",
       "| diet_quality | Average_Sleep |\n",
       "+--------------+---------------+\n",
       "|     Fair     |      6.9      |\n",
       "|     Good     |      6.4      |\n",
       "|     Poor     |      6.8      |\n",
       "+--------------+---------------+"
      ]
     },
     "execution_count": 26,
     "metadata": {},
     "output_type": "execute_result"
    }
   ],
   "source": [
    "%%sql\n",
    "Select diet_quality, ROUND(AVG(sleep_hours),1) AS Average_Sleep FROM top_students GROUP BY diet_quality"
   ]
  },
  {
   "cell_type": "code",
   "execution_count": 28,
   "id": "85721c26-8b5e-422d-8a4d-61a4b5db2265",
   "metadata": {},
   "outputs": [
    {
     "data": {
      "text/html": [
       "<span style=\"None\">Running query in &#x27;sqlite:///C:\\\\Users\\\\david\\\\SQL\\\\habvsper.db&#x27;</span>"
      ],
      "text/plain": [
       "Running query in 'sqlite:///C:\\\\Users\\\\david\\\\SQL\\\\habvsper.db'"
      ]
     },
     "metadata": {},
     "output_type": "display_data"
    },
    {
     "data": {
      "text/html": [
       "<table>\n",
       "    <thead>\n",
       "        <tr>\n",
       "            <th>gender</th>\n",
       "            <th>Average_Study</th>\n",
       "        </tr>\n",
       "    </thead>\n",
       "    <tbody>\n",
       "        <tr>\n",
       "            <td>Female</td>\n",
       "            <td>5.7</td>\n",
       "        </tr>\n",
       "        <tr>\n",
       "            <td>Male</td>\n",
       "            <td>5.6</td>\n",
       "        </tr>\n",
       "        <tr>\n",
       "            <td>Other</td>\n",
       "            <td>5.3</td>\n",
       "        </tr>\n",
       "    </tbody>\n",
       "</table>"
      ],
      "text/plain": [
       "+--------+---------------+\n",
       "| gender | Average_Study |\n",
       "+--------+---------------+\n",
       "| Female |      5.7      |\n",
       "|  Male  |      5.6      |\n",
       "| Other  |      5.3      |\n",
       "+--------+---------------+"
      ]
     },
     "execution_count": 28,
     "metadata": {},
     "output_type": "execute_result"
    }
   ],
   "source": [
    "%%sql\n",
    "Select gender, ROUND(AVG(study_hours_per_day),1) AS Average_Study FROM top_students GROUP BY gender"
   ]
  },
  {
   "cell_type": "code",
   "execution_count": 29,
   "id": "9f5e72dd-8084-4492-a370-9d3aef69b296",
   "metadata": {},
   "outputs": [
    {
     "data": {
      "text/html": [
       "<span style=\"None\">Running query in &#x27;sqlite:///C:\\\\Users\\\\david\\\\SQL\\\\habvsper.db&#x27;</span>"
      ],
      "text/plain": [
       "Running query in 'sqlite:///C:\\\\Users\\\\david\\\\SQL\\\\habvsper.db'"
      ]
     },
     "metadata": {},
     "output_type": "display_data"
    },
    {
     "data": {
      "text/html": [
       "<table>\n",
       "    <thead>\n",
       "        <tr>\n",
       "            <th>exercise_frequency</th>\n",
       "            <th>mentality</th>\n",
       "        </tr>\n",
       "    </thead>\n",
       "    <tbody>\n",
       "        <tr>\n",
       "            <td>0</td>\n",
       "            <td>7.6</td>\n",
       "        </tr>\n",
       "        <tr>\n",
       "            <td>1</td>\n",
       "            <td>6.9</td>\n",
       "        </tr>\n",
       "        <tr>\n",
       "            <td>2</td>\n",
       "            <td>6.7</td>\n",
       "        </tr>\n",
       "        <tr>\n",
       "            <td>3</td>\n",
       "            <td>7.2</td>\n",
       "        </tr>\n",
       "        <tr>\n",
       "            <td>4</td>\n",
       "            <td>7.4</td>\n",
       "        </tr>\n",
       "        <tr>\n",
       "            <td>5</td>\n",
       "            <td>6.6</td>\n",
       "        </tr>\n",
       "        <tr>\n",
       "            <td>6</td>\n",
       "            <td>6.7</td>\n",
       "        </tr>\n",
       "    </tbody>\n",
       "</table>"
      ],
      "text/plain": [
       "+--------------------+-----------+\n",
       "| exercise_frequency | mentality |\n",
       "+--------------------+-----------+\n",
       "|         0          |    7.6    |\n",
       "|         1          |    6.9    |\n",
       "|         2          |    6.7    |\n",
       "|         3          |    7.2    |\n",
       "|         4          |    7.4    |\n",
       "|         5          |    6.6    |\n",
       "|         6          |    6.7    |\n",
       "+--------------------+-----------+"
      ]
     },
     "execution_count": 29,
     "metadata": {},
     "output_type": "execute_result"
    }
   ],
   "source": [
    "%%sql\n",
    "Select exercise_frequency, ROUND(AVG(mental_health_rating),1) AS mentality FROM top_students GROUP BY exercise_frequency"
   ]
  },
  {
   "cell_type": "code",
   "execution_count": 30,
   "id": "1df6147b-8c93-4a0a-9199-4c23f243127e",
   "metadata": {},
   "outputs": [
    {
     "data": {
      "text/html": [
       "<span style=\"None\">Running query in &#x27;sqlite:///C:\\\\Users\\\\david\\\\SQL\\\\habvsper.db&#x27;</span>"
      ],
      "text/plain": [
       "Running query in 'sqlite:///C:\\\\Users\\\\david\\\\SQL\\\\habvsper.db'"
      ]
     },
     "metadata": {},
     "output_type": "display_data"
    },
    {
     "data": {
      "text/html": [
       "<table>\n",
       "    <thead>\n",
       "        <tr>\n",
       "            <th>part_time_job</th>\n",
       "            <th>amount</th>\n",
       "        </tr>\n",
       "    </thead>\n",
       "    <tbody>\n",
       "        <tr>\n",
       "            <td>No</td>\n",
       "            <td>103</td>\n",
       "        </tr>\n",
       "        <tr>\n",
       "            <td>Yes</td>\n",
       "            <td>23</td>\n",
       "        </tr>\n",
       "    </tbody>\n",
       "</table>"
      ],
      "text/plain": [
       "+---------------+--------+\n",
       "| part_time_job | amount |\n",
       "+---------------+--------+\n",
       "|       No      |  103   |\n",
       "|      Yes      |   23   |\n",
       "+---------------+--------+"
      ]
     },
     "execution_count": 30,
     "metadata": {},
     "output_type": "execute_result"
    }
   ],
   "source": [
    "%%sql\n",
    "Select part_time_job,count(part_time_job) as amount FROM top_students GROUP BY part_time_job"
   ]
  },
  {
   "cell_type": "code",
   "execution_count": 31,
   "id": "44e406d3-d1cc-4232-8687-6f7dd12a3f4a",
   "metadata": {},
   "outputs": [
    {
     "data": {
      "text/html": [
       "<span style=\"None\">Running query in &#x27;sqlite:///C:\\\\Users\\\\david\\\\SQL\\\\habvsper.db&#x27;</span>"
      ],
      "text/plain": [
       "Running query in 'sqlite:///C:\\\\Users\\\\david\\\\SQL\\\\habvsper.db'"
      ]
     },
     "metadata": {},
     "output_type": "display_data"
    },
    {
     "data": {
      "text/html": [
       "<table>\n",
       "    <thead>\n",
       "        <tr>\n",
       "            <th>extracurricular_participation</th>\n",
       "            <th>amount</th>\n",
       "        </tr>\n",
       "    </thead>\n",
       "    <tbody>\n",
       "        <tr>\n",
       "            <td>No</td>\n",
       "            <td>85</td>\n",
       "        </tr>\n",
       "        <tr>\n",
       "            <td>Yes</td>\n",
       "            <td>41</td>\n",
       "        </tr>\n",
       "    </tbody>\n",
       "</table>"
      ],
      "text/plain": [
       "+-------------------------------+--------+\n",
       "| extracurricular_participation | amount |\n",
       "+-------------------------------+--------+\n",
       "|               No              |   85   |\n",
       "|              Yes              |   41   |\n",
       "+-------------------------------+--------+"
      ]
     },
     "execution_count": 31,
     "metadata": {},
     "output_type": "execute_result"
    }
   ],
   "source": [
    "%%sql\n",
    "Select extracurricular_participation, count(extracurricular_participation) as amount FROM top_students GROUP BY extracurricular_participation \t"
   ]
  },
  {
   "cell_type": "code",
   "execution_count": 32,
   "id": "e8da2ab7-7bb3-4bba-a3aa-66db5af3ecc8",
   "metadata": {},
   "outputs": [
    {
     "name": "stdout",
     "output_type": "stream",
     "text": [
      "     student_num student_id  age  gender  study_hours_per_day  \\\n",
      "0              2      S1001   20  Female                  6.9   \n",
      "1              6      S1005   24    Male                  7.2   \n",
      "2             10      S1009   18  Female                  4.8   \n",
      "3             70      S1069   22    Male                  6.8   \n",
      "4             77      S1076   20    Male                  6.0   \n",
      "..           ...        ...  ...     ...                  ...   \n",
      "121          799      S1798   17  Female                  5.1   \n",
      "122          826      S1825   20    Male                  4.3   \n",
      "123          153      S1152   17  Female                  5.6   \n",
      "124          601      S1600   21    Male                  6.0   \n",
      "125          248      S1247   17  Female                  5.8   \n",
      "\n",
      "     social_media_hours  netflix_hours part_time_job  attendance_percentage  \\\n",
      "0                   2.8            2.3            No                   97.3   \n",
      "1                   1.3            0.0            No                   82.9   \n",
      "2                   3.1            1.3            No                   95.4   \n",
      "3                   3.7            1.8            No                   72.3   \n",
      "4                   2.5            2.9            No                   85.1   \n",
      "..                  ...            ...           ...                    ...   \n",
      "121                 3.9            3.0            No                   79.3   \n",
      "122                 1.3            0.0           Yes                   90.2   \n",
      "123                 2.8            4.1            No                   85.8   \n",
      "124                 3.3            2.2            No                   74.4   \n",
      "125                 3.5            1.9            No                   88.7   \n",
      "\n",
      "     sleep_hours diet_quality  exercise_frequency parental_education_level  \\\n",
      "0            4.6         Good                   6              High School   \n",
      "1            7.4         Fair                   1                   Master   \n",
      "2            7.5         Good                   5                 Bachelor   \n",
      "3            7.5         Poor                   6                   Master   \n",
      "4            6.7         Poor                   5                 Bachelor   \n",
      "..           ...          ...                 ...                      ...   \n",
      "121          7.2         Good                   1                 Bachelor   \n",
      "122          6.3         Good                   0              High School   \n",
      "123          6.8         Good                   4              High School   \n",
      "124          5.4         Fair                   0              High School   \n",
      "125          8.8         Fair                   1                 Bachelor   \n",
      "\n",
      "    internet_quality  mental_health_rating extracurricular_participation  \\\n",
      "0            Average                     8                            No   \n",
      "1            Average                     4                            No   \n",
      "2               Good                    10                           Yes   \n",
      "3            Average                     5                            No   \n",
      "4            Average                    10                           Yes   \n",
      "..               ...                   ...                           ...   \n",
      "121          Average                    10                            No   \n",
      "122          Average                     7                            No   \n",
      "123             Good                     7                            No   \n",
      "124          Average                     8                           Yes   \n",
      "125             Good                     8                           Yes   \n",
      "\n",
      "     exam_score  \n",
      "0         100.0  \n",
      "1         100.0  \n",
      "2         100.0  \n",
      "3         100.0  \n",
      "4         100.0  \n",
      "..          ...  \n",
      "121        90.6  \n",
      "122        90.4  \n",
      "123        90.3  \n",
      "124        90.2  \n",
      "125        90.0  \n",
      "\n",
      "[126 rows x 17 columns]\n"
     ]
    }
   ],
   "source": [
    "df=pd.read_sql(\"SELECT * FROM top_students\",engine)\n",
    "print(df)\n",
    "#makes a dataframe using pandas"
   ]
  },
  {
   "cell_type": "code",
   "execution_count": 33,
   "id": "6bf8f527-f680-47c6-8fd8-38d14c9f0cc3",
   "metadata": {},
   "outputs": [],
   "source": [
    "save_excel_auto_width(df,'top_scorers.xlsx')"
   ]
  },
  {
   "cell_type": "code",
   "execution_count": 34,
   "id": "dea8b184-6739-448d-a2d8-21421fd1c896",
   "metadata": {},
   "outputs": [
    {
     "data": {
      "text/plain": [
       "'\\ndef save_excel_auto_width(df, filename, sheet_name=\"Sheet1\"):\\n    \"\"\"\\n    Saves a pandas DataFrame to an Excel file with column widths\\n    automatically adjusted to fit the content.\\n\\n    Parameters:\\n        df (pd.DataFrame): The DataFrame to save.\\n        filename (str): The Excel file name (e.g., \"output.xlsx\").\\n        sheet_name (str): The name of the Excel sheet (default \"Sheet1\").\\n    \"\"\"\\n    # Save the DataFrame to Excel\\n    df.to_excel(filename, index=False, sheet_name=sheet_name)\\n\\n    # Load the file with openpyxl\\n    wb = load_workbook(filename)\\n    ws = wb[sheet_name]\\n\\n    # Adjust column widths\\n    for col in ws.columns:\\n        max_length = max(len(str(cell.value)) if cell.value is not None else 0 for cell in col)\\n        col_letter = get_column_letter(col[0].column)\\n        ws.column_dimensions[col_letter].width = max_length + 2  # add padding\\n\\n    wb.save(filename)\\n'"
      ]
     },
     "execution_count": 34,
     "metadata": {},
     "output_type": "execute_result"
    }
   ],
   "source": [
    "#my definition of save_excel_auto_width\n",
    "'''\n",
    "def save_excel_auto_width(df, filename, sheet_name=\"Sheet1\"):\n",
    "    \"\"\"\n",
    "    Saves a pandas DataFrame to an Excel file with column widths\n",
    "    automatically adjusted to fit the content.\n",
    "\n",
    "    Parameters:\n",
    "        df (pd.DataFrame): The DataFrame to save.\n",
    "        filename (str): The Excel file name (e.g., \"output.xlsx\").\n",
    "        sheet_name (str): The name of the Excel sheet (default \"Sheet1\").\n",
    "    \"\"\"\n",
    "    # Save the DataFrame to Excel\n",
    "    df.to_excel(filename, index=False, sheet_name=sheet_name)\n",
    "\n",
    "    # Load the file with openpyxl\n",
    "    wb = load_workbook(filename)\n",
    "    ws = wb[sheet_name]\n",
    "\n",
    "    # Adjust column widths\n",
    "    for col in ws.columns:\n",
    "        max_length = max(len(str(cell.value)) if cell.value is not None else 0 for cell in col)\n",
    "        col_letter = get_column_letter(col[0].column)\n",
    "        ws.column_dimensions[col_letter].width = max_length + 2  # add padding\n",
    "\n",
    "    wb.save(filename)\n",
    "'''"
   ]
  },
  {
   "cell_type": "code",
   "execution_count": null,
   "id": "b6e85501-645e-468b-bbf4-affd5359f450",
   "metadata": {},
   "outputs": [],
   "source": []
  }
 ],
 "metadata": {
  "kernelspec": {
   "display_name": "Python [conda env:base] *",
   "language": "python",
   "name": "conda-base-py"
  },
  "language_info": {
   "codemirror_mode": {
    "name": "ipython",
    "version": 3
   },
   "file_extension": ".py",
   "mimetype": "text/x-python",
   "name": "python",
   "nbconvert_exporter": "python",
   "pygments_lexer": "ipython3",
   "version": "3.12.7"
  }
 },
 "nbformat": 4,
 "nbformat_minor": 5
}
